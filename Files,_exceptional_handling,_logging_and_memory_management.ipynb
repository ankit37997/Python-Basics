{
  "nbformat": 4,
  "nbformat_minor": 0,
  "metadata": {
    "colab": {
      "provenance": []
    },
    "kernelspec": {
      "name": "python3",
      "display_name": "Python 3"
    },
    "language_info": {
      "name": "python"
    }
  },
  "cells": [
    {
      "cell_type": "markdown",
      "source": [
        "#**Theory Questions**"
      ],
      "metadata": {
        "id": "Q6Os3t7cRLby"
      }
    },
    {
      "cell_type": "markdown",
      "source": [
        "#1. What is the difference between interpreted and compiled languages?"
      ],
      "metadata": {
        "id": "hNSXp3nwRbT0"
      }
    },
    {
      "cell_type": "markdown",
      "source": [
        "- Interpreted Languages: Code is executed line by line at runtime (e.g., Python, JavaScript).\n",
        "- Compiled Languages: Code is first translated into machine code before execution (e.g., C, C++)\n"
      ],
      "metadata": {
        "id": "VCph35auSut-"
      }
    },
    {
      "cell_type": "markdown",
      "source": [
        "#2.What is exception handling in Python?"
      ],
      "metadata": {
        "id": "Jriv_aOHS8Sh"
      }
    },
    {
      "cell_type": "markdown",
      "source": [
        "- A mechanism to handle runtime errors using try, except, finally, and else."
      ],
      "metadata": {
        "id": "gQoEScfjTfY1"
      }
    },
    {
      "cell_type": "markdown",
      "source": [
        "#3. What is the purpose of the finally block in exception handling?"
      ],
      "metadata": {
        "id": "ZRHVaawtThys"
      }
    },
    {
      "cell_type": "markdown",
      "source": [
        "- Ensures that certain code (e.g., closing a file or releasing resources) always runs, even if an exception occurs."
      ],
      "metadata": {
        "id": "POLW5l9dTnGW"
      }
    },
    {
      "cell_type": "markdown",
      "source": [
        "#4. What is logging in Python?"
      ],
      "metadata": {
        "id": "swsaT5M0TvuN"
      }
    },
    {
      "cell_type": "markdown",
      "source": [
        "- A module (logging) used for tracking events, errors, and debugging information."
      ],
      "metadata": {
        "id": "2G_f7Fm4T3If"
      }
    },
    {
      "cell_type": "markdown",
      "source": [
        " # 5.What is the significance of the __ del __ method in Python?"
      ],
      "metadata": {
        "id": "OVUtkdCXUPD3"
      }
    },
    {
      "cell_type": "markdown",
      "source": [
        "- The __ del __ method in Python is a special method known as a destructor. It is called when an object is about to be destroyed, typically when it goes out of scope or its reference count drops to zero."
      ],
      "metadata": {
        "id": "BHESIcg8UTeV"
      }
    },
    {
      "cell_type": "markdown",
      "source": [
        "# 6. What is the difference between import and from ... import in Python?"
      ],
      "metadata": {
        "id": "CjrZQOR_VFhP"
      }
    },
    {
      "cell_type": "markdown",
      "source": [
        "- import module imports the whole module.\n",
        "- from module import func imports only specific functions or classes."
      ],
      "metadata": {
        "id": "bxeZOesRVQWL"
      }
    },
    {
      "cell_type": "markdown",
      "source": [
        "#7. How can you handle multiple exceptions in Python?"
      ],
      "metadata": {
        "id": "l_wlakFmVpKT"
      }
    },
    {
      "cell_type": "markdown",
      "source": [
        "You can handle multiple exceptions in Python using different techniques:\n",
        "\n",
        "- **Multiple except Blocks** – You can write separate except blocks for each type of exception, allowing you to handle different errors in different ways.\n",
        "\n",
        "- **Single except Block with Multiple Exceptions** – You can group multiple exception types in a single except block using a tuple. This helps when you want to handle different exceptions with the same response.\n",
        "\n",
        "- **Using finally** – The finally block is used to execute cleanup code, like closing files or releasing resources, regardless of whether an exception occurred or not."
      ],
      "metadata": {
        "id": "y211pWVmVtTZ"
      }
    },
    {
      "cell_type": "markdown",
      "source": [
        "# 8. What is the purpose of the with statement when handling files in Python?"
      ],
      "metadata": {
        "id": "5AQ4oMdYgyoY"
      }
    },
    {
      "cell_type": "markdown",
      "source": [
        "- The **With** statement ensures proper resource management by automatically closing the file after execution, preventing memory leaks and file corruption."
      ],
      "metadata": {
        "id": "YbMMaVPPhOjt"
      }
    },
    {
      "cell_type": "markdown",
      "source": [
        "#9. What is the difference between multithreading and multiprocessing?"
      ],
      "metadata": {
        "id": "g0JJ6kQ1hoGL"
      }
    },
    {
      "cell_type": "markdown",
      "source": [
        "- Multithreading: Multiple threads within the same process (good for I/O tasks).\n",
        "- Multiprocessing: Multiple independent processes (better for CPU-bound tasks)."
      ],
      "metadata": {
        "id": "S69LjT_2hykT"
      }
    },
    {
      "cell_type": "markdown",
      "source": [
        "# 10. What are the advantages of using logging in a program?"
      ],
      "metadata": {
        "id": "o9vglWhwiC6i"
      }
    },
    {
      "cell_type": "markdown",
      "source": [
        "- Helps in debugging, error tracking, and monitoring application behavior."
      ],
      "metadata": {
        "id": "b6DNs9wEiLnX"
      }
    },
    {
      "cell_type": "markdown",
      "source": [
        "# 11. What is memory management in Python?"
      ],
      "metadata": {
        "id": "V1p35jINiSFM"
      }
    },
    {
      "cell_type": "markdown",
      "source": [
        "- Memory management in Python refers to the process of allocating, using, and deallocating memory efficiently to ensure optimal performance. Python handles memory automatically using dynamic memory allocation and garbage collection."
      ],
      "metadata": {
        "id": "2_ckfhh7ijzP"
      }
    },
    {
      "cell_type": "markdown",
      "source": [
        "# 12. What are the basic steps involved in exception handling in Python?\n"
      ],
      "metadata": {
        "id": "VzivNbLBjH4V"
      }
    },
    {
      "cell_type": "markdown",
      "source": [
        "- Use **try** to wrap risky code, **except** to catch errors, **finally** to execute cleanup code."
      ],
      "metadata": {
        "id": "ByKpT89EkPjU"
      }
    },
    {
      "cell_type": "markdown",
      "source": [
        "# 13. Why is memory management important in Python?\n",
        "\n"
      ],
      "metadata": {
        "id": "sQ03grCHjojp"
      }
    },
    {
      "cell_type": "markdown",
      "source": [
        "- Memory management ensures efficient allocation, deallocation, and garbage collection to prevent memory leaks and optimize performance."
      ],
      "metadata": {
        "id": "1FO3BmzOkRJ2"
      }
    },
    {
      "cell_type": "markdown",
      "source": [
        "# 14. What is the role of try and except in exception handling?\n"
      ],
      "metadata": {
        "id": "PVbzFeRIjqWX"
      }
    },
    {
      "cell_type": "markdown",
      "source": [
        "- **try** lets you test a block of code for errors, while **except** catches and handles those errors to prevent crashes."
      ],
      "metadata": {
        "id": "yLaEWeUT3w55"
      }
    },
    {
      "cell_type": "markdown",
      "source": [
        "# 15. How does Python's garbage collection system work?\n"
      ],
      "metadata": {
        "id": "9ICUt_NhjsJ6"
      }
    },
    {
      "cell_type": "markdown",
      "source": [
        "- Python uses reference counting and cyclic garbage collection to automatically free unused memory."
      ],
      "metadata": {
        "id": "_iRAgkec333T"
      }
    },
    {
      "cell_type": "markdown",
      "source": [
        "# 16. What is the purpose of the else block in exception handling?\n"
      ],
      "metadata": {
        "id": "8UX1oqFvjua5"
      }
    },
    {
      "cell_type": "markdown",
      "source": [
        "- The else block runs if no exceptions occur in the try block."
      ],
      "metadata": {
        "id": "jpvXTrzh3-uw"
      }
    },
    {
      "cell_type": "markdown",
      "source": [
        "# 17. What are the common logging levels in Python?\n"
      ],
      "metadata": {
        "id": "fFwz6OGPjwQA"
      }
    },
    {
      "cell_type": "markdown",
      "source": [
        "- DEBUG, INFO, WARNING, ERROR, and CRITICAL."
      ],
      "metadata": {
        "id": "QtW4RGRU4Ch1"
      }
    },
    {
      "cell_type": "markdown",
      "source": [
        "# 18. What is the difference between os.fork() and multiprocessing in Python?\n"
      ],
      "metadata": {
        "id": "sS72Akuijykx"
      }
    },
    {
      "cell_type": "markdown",
      "source": [
        "- **os.fork()** creates a child process at the OS level (Unix-based), while **multiprocessing** provides a cross-platform API for parallel processing."
      ],
      "metadata": {
        "id": "Ek4TxMmW4FYM"
      }
    },
    {
      "cell_type": "markdown",
      "source": [
        "# 19. What is the importance of closing a file in Python?\n"
      ],
      "metadata": {
        "id": "D1KB64Hhj0yi"
      }
    },
    {
      "cell_type": "markdown",
      "source": [
        "- Closing a file releases system resources and prevents data corruption."
      ],
      "metadata": {
        "id": "dWhoccp54NEV"
      }
    },
    {
      "cell_type": "markdown",
      "source": [
        "# 20. What is the difference between file.read() and file.readline() in Python?\n"
      ],
      "metadata": {
        "id": "JOatksrBj3JR"
      }
    },
    {
      "cell_type": "markdown",
      "source": [
        "- **file.read()** reads the entire file or a specific number of bytes, while **file.readline()** reads one line at a time."
      ],
      "metadata": {
        "id": "ETkDESmY4P_7"
      }
    },
    {
      "cell_type": "markdown",
      "source": [
        "# 21. What is the logging module in Python used for?\n"
      ],
      "metadata": {
        "id": "2SOqEBTTj5It"
      }
    },
    {
      "cell_type": "markdown",
      "source": [
        "- It provides a way to record logs for debugging and monitoring applications."
      ],
      "metadata": {
        "id": "GDF-W2ZK4WA0"
      }
    },
    {
      "cell_type": "markdown",
      "source": [
        "# 22. What is the os module in Python used for in file handling?\n"
      ],
      "metadata": {
        "id": "YM7yDNoxj6tG"
      }
    },
    {
      "cell_type": "markdown",
      "source": [
        "- It helps interact with the operating system for file and directory operations."
      ],
      "metadata": {
        "id": "UkqREIRd4Zv9"
      }
    },
    {
      "cell_type": "markdown",
      "source": [
        "# 23. What are the challenges associated with memory management in Python?\n"
      ],
      "metadata": {
        "id": "zXFynDlXj8im"
      }
    },
    {
      "cell_type": "markdown",
      "source": [
        "- Challenges include high memory usage, garbage collection overhead, and memory leaks due to circular references."
      ],
      "metadata": {
        "id": "ONOAIhtZ4dNM"
      }
    },
    {
      "cell_type": "markdown",
      "source": [
        "# 24.  How do you raise an exception manually in Python?\n"
      ],
      "metadata": {
        "id": "bAhgQWZYj_NY"
      }
    },
    {
      "cell_type": "markdown",
      "source": [
        "- Use raise Exception(\"Custom message\") to generate an exception."
      ],
      "metadata": {
        "id": "4jeyIrks4k2v"
      }
    },
    {
      "cell_type": "markdown",
      "source": [
        "# 25. Why is it important to use multithreading in certain applications?"
      ],
      "metadata": {
        "id": "hWX3UsF7kBVm"
      }
    },
    {
      "cell_type": "markdown",
      "source": [
        "- Multithreading improves performance by running tasks concurrently, especially for I/O-bound operations."
      ],
      "metadata": {
        "id": "0x_1fTZN4nTh"
      }
    },
    {
      "cell_type": "markdown",
      "source": [
        "#Practical Questions"
      ],
      "metadata": {
        "id": "qNvcZOeAkCik"
      }
    },
    {
      "cell_type": "markdown",
      "source": [
        "# 1. How can you open a file for writing in Python and write a string to it?\n"
      ],
      "metadata": {
        "id": "gBTo5tD24x7u"
      }
    },
    {
      "cell_type": "code",
      "source": [
        "with open(\"output.txt\", \"w\") as file:\n",
        "    file.write(\"Hello, this is a test string.\")\n"
      ],
      "metadata": {
        "id": "kxg94Wr_7xkx"
      },
      "execution_count": 2,
      "outputs": []
    },
    {
      "cell_type": "markdown",
      "source": [
        "#2.Write a Python program to read the contents of a file and print each line.\n"
      ],
      "metadata": {
        "id": "LBz9gQxv6aFU"
      }
    },
    {
      "cell_type": "code",
      "source": [
        "with open(\"input.txt\", \"r\") as file:\n",
        "    for line in file:\n",
        "        print(line.strip())\n"
      ],
      "metadata": {
        "id": "tXeKe_En8JZh"
      },
      "execution_count": null,
      "outputs": []
    },
    {
      "cell_type": "markdown",
      "source": [
        "# 3.How would you handle a case where the file doesn't exist while trying to open it for reading?\n"
      ],
      "metadata": {
        "id": "LL7BQk6o6dqH"
      }
    },
    {
      "cell_type": "code",
      "source": [
        "try:\n",
        "    with open(\"non_existent.txt\", \"r\") as file:\n",
        "        content = file.read()\n",
        "        print(content)\n",
        "except FileNotFoundError:\n",
        "    print(\"File not found.\")\n"
      ],
      "metadata": {
        "colab": {
          "base_uri": "https://localhost:8080/"
        },
        "id": "Ux0A6dYi8Kbs",
        "outputId": "560b39e2-551f-434f-f6d1-e6d4b763b55a"
      },
      "execution_count": 4,
      "outputs": [
        {
          "output_type": "stream",
          "name": "stdout",
          "text": [
            "File not found.\n"
          ]
        }
      ]
    },
    {
      "cell_type": "markdown",
      "source": [
        "# 4. Write a Python script that reads from one file and writes its content to another file.\n"
      ],
      "metadata": {
        "id": "9A6V5EHk6ie4"
      }
    },
    {
      "cell_type": "code",
      "source": [
        "with open(\"source.txt\", \"r\") as src, open(\"destination.txt\", \"w\") as dest:\n",
        "    dest.write(src.read())\n"
      ],
      "metadata": {
        "id": "FlsA9guy8SYC"
      },
      "execution_count": null,
      "outputs": []
    },
    {
      "cell_type": "markdown",
      "source": [
        "# 5. How would you catch and handle division by zero error in Python?\n"
      ],
      "metadata": {
        "id": "ag6LAM586mMa"
      }
    },
    {
      "cell_type": "code",
      "source": [
        "try:\n",
        "    result = 10 / 0\n",
        "except ZeroDivisionError:\n",
        "    print(\"Cannot divide by zero.\")\n"
      ],
      "metadata": {
        "id": "_a9k2Qlu8TWD"
      },
      "execution_count": null,
      "outputs": []
    },
    {
      "cell_type": "markdown",
      "source": [
        "# 6. Write a Python program that logs an error message to a log file when a division by zero exception occurs.\n"
      ],
      "metadata": {
        "id": "XL1x-65q6o9x"
      }
    },
    {
      "cell_type": "code",
      "source": [
        "import logging\n",
        "\n",
        "logging.basicConfig(filename=\"error.log\", level=logging.ERROR)\n",
        "\n",
        "try:\n",
        "    result = 10 / 0\n",
        "except ZeroDivisionError:\n",
        "    logging.error(\"Division by zero error occurred.\")\n"
      ],
      "metadata": {
        "id": "izZP94NB8Vsp"
      },
      "execution_count": null,
      "outputs": []
    },
    {
      "cell_type": "markdown",
      "source": [
        "# 7. How do you log information at different levels (INFO, ERROR, WARNING) in Python using the logging module?\n"
      ],
      "metadata": {
        "id": "e53cNa7c6skU"
      }
    },
    {
      "cell_type": "code",
      "source": [
        "import logging\n",
        "\n",
        "logging.basicConfig(level=logging.DEBUG)\n",
        "\n",
        "logging.info(\"This is an INFO message.\")\n",
        "logging.warning(\"This is a WARNING message.\")\n",
        "logging.error(\"This is an ERROR message.\")\n"
      ],
      "metadata": {
        "id": "gL-GvqCJ8YQ_"
      },
      "execution_count": null,
      "outputs": []
    },
    {
      "cell_type": "markdown",
      "source": [
        "# 8. Write a program to handle a file opening error using exception handling.\n"
      ],
      "metadata": {
        "id": "d9vb38nJ6wNP"
      }
    },
    {
      "cell_type": "code",
      "source": [
        "try:\n",
        "    with open(\"unknown.txt\", \"r\") as file:\n",
        "        content = file.read()\n",
        "except FileNotFoundError:\n",
        "    print(\"File could not be opened.\")\n"
      ],
      "metadata": {
        "id": "vp2rOuYi8b5g"
      },
      "execution_count": null,
      "outputs": []
    },
    {
      "cell_type": "markdown",
      "source": [
        "#  9. How can you read a file line by line and store its content in a list in Python?\n"
      ],
      "metadata": {
        "id": "ERAHe3qm6y_V"
      }
    },
    {
      "cell_type": "code",
      "source": [
        "with open(\"data.txt\", \"r\") as file:\n",
        "    lines = file.readlines()\n",
        "print(lines)\n"
      ],
      "metadata": {
        "id": "M0f1FLwH8d3t"
      },
      "execution_count": null,
      "outputs": []
    },
    {
      "cell_type": "markdown",
      "source": [
        "# 10. How can you append data to an existing file in Python?\n"
      ],
      "metadata": {
        "id": "8fCHXaBs6zUV"
      }
    },
    {
      "cell_type": "code",
      "source": [
        "with open(\"append.txt\", \"a\") as file:\n",
        "    file.write(\"\\nAppending new data.\")\n"
      ],
      "metadata": {
        "id": "LjLZ2SU68e6h"
      },
      "execution_count": null,
      "outputs": []
    },
    {
      "cell_type": "markdown",
      "source": [
        "# 11. Write a Python program that uses a try-except block to handle an error when attempting to access a dictionary key that doesn't exist.\n"
      ],
      "metadata": {
        "id": "YEnsCJji6zpt"
      }
    },
    {
      "cell_type": "code",
      "source": [
        "try:\n",
        "    my_dict = {\"name\": \"Alice\"}\n",
        "    print(my_dict[\"age\"])\n",
        "except KeyError:\n",
        "    print(\"Key not found in dictionary.\")\n"
      ],
      "metadata": {
        "id": "JEhpiqWO8gmf"
      },
      "execution_count": null,
      "outputs": []
    },
    {
      "cell_type": "markdown",
      "source": [
        "# 12. Write a program that demonstrates using multiple except blocks to handle different types of exceptions.\n"
      ],
      "metadata": {
        "id": "DIaUc0uW60Da"
      }
    },
    {
      "cell_type": "code",
      "source": [
        "try:\n",
        "    num = int(\"abc\")\n",
        "    result = 10 / 0\n",
        "except ValueError:\n",
        "    print(\"ValueError: Invalid input.\")\n",
        "except ZeroDivisionError:\n",
        "    print(\"ZeroDivisionError: Cannot divide by zero.\")\n"
      ],
      "metadata": {
        "id": "sUkqElPX8jYw"
      },
      "execution_count": null,
      "outputs": []
    },
    {
      "cell_type": "markdown",
      "source": [
        "# 13. How would you check if a file exists before attempting to read it in Python?\n"
      ],
      "metadata": {
        "id": "BomWUxo860bX"
      }
    },
    {
      "cell_type": "code",
      "source": [
        "import os\n",
        "\n",
        "if os.path.exists(\"check.txt\"):\n",
        "    with open(\"check.txt\", \"r\") as file:\n",
        "        print(file.read())\n",
        "else:\n",
        "    print(\"File does not exist.\")\n"
      ],
      "metadata": {
        "id": "ODTfBQfm8kLS"
      },
      "execution_count": null,
      "outputs": []
    },
    {
      "cell_type": "markdown",
      "source": [
        "# 14. Write a program that uses the logging module to log both informational and error messages.\n"
      ],
      "metadata": {
        "id": "Y_MCMtSk60xf"
      }
    },
    {
      "cell_type": "code",
      "source": [
        "import logging\n",
        "\n",
        "logging.basicConfig(filename=\"app.log\", level=logging.INFO)\n",
        "\n",
        "logging.info(\"This is an informational message.\")\n",
        "logging.error(\"This is an error message.\")\n"
      ],
      "metadata": {
        "id": "IXzsZWqw8l1A"
      },
      "execution_count": null,
      "outputs": []
    },
    {
      "cell_type": "markdown",
      "source": [
        "# 15. Write a Python program that prints the content of a file and handles the case when the file is empty.\n"
      ],
      "metadata": {
        "id": "2YIQX56I61IK"
      }
    },
    {
      "cell_type": "code",
      "source": [
        "with open(\"test.txt\", \"r\") as file:\n",
        "    content = file.read()\n",
        "    if content:\n",
        "        print(content)\n",
        "    else:\n",
        "        print(\"File is empty.\")\n"
      ],
      "metadata": {
        "id": "coApeljC8oR4"
      },
      "execution_count": null,
      "outputs": []
    },
    {
      "cell_type": "markdown",
      "source": [
        "# 16. Demonstrate how to use memory profiling to check the memory usage of a small program.\n"
      ],
      "metadata": {
        "id": "u8pwONdi61bo"
      }
    },
    {
      "cell_type": "code",
      "source": [
        "from memory_profiler import profile\n",
        "\n",
        "@profile\n",
        "def my_function():\n",
        "    data = [x for x in range(10000)]\n",
        "    return data\n",
        "\n",
        "my_function()\n"
      ],
      "metadata": {
        "id": "e-YgsZWF8pKI"
      },
      "execution_count": null,
      "outputs": []
    },
    {
      "cell_type": "markdown",
      "source": [
        "# 17. Write a Python program to create and write a list of numbers to a file, one number per line.\n"
      ],
      "metadata": {
        "id": "4Hcs0iaJ61yA"
      }
    },
    {
      "cell_type": "code",
      "source": [
        "numbers = [1, 2, 3, 4, 5]\n",
        "with open(\"numbers.txt\", \"w\") as file:\n",
        "    for num in numbers:\n",
        "        file.write(f\"{num}\\n\")\n"
      ],
      "metadata": {
        "id": "cTZmgBCn8q7A"
      },
      "execution_count": null,
      "outputs": []
    },
    {
      "cell_type": "markdown",
      "source": [
        "# 18. How would you implement a basic logging setup that logs to a file with rotation after 1MB?\n"
      ],
      "metadata": {
        "id": "xmaXsCIB62RX"
      }
    },
    {
      "cell_type": "code",
      "source": [
        "import logging\n",
        "from logging.handlers import RotatingFileHandler\n",
        "\n",
        "handler = RotatingFileHandler(\"rotating.log\", maxBytes=1024*1024, backupCount=5)\n",
        "logging.basicConfig(handlers=[handler], level=logging.INFO)\n",
        "\n",
        "logging.info(\"This is a log entry.\")\n"
      ],
      "metadata": {
        "id": "FW01QY4d8v4X"
      },
      "execution_count": null,
      "outputs": []
    },
    {
      "cell_type": "markdown",
      "source": [
        "# 19. Write a program that handles both IndexError and KeyError using a try-except block.\n"
      ],
      "metadata": {
        "id": "1IKGUPm862mP"
      }
    },
    {
      "cell_type": "code",
      "source": [
        "try:\n",
        "    my_list = [1, 2, 3]\n",
        "    print(my_list[5])\n",
        "    my_dict = {\"a\": 1}\n",
        "    print(my_dict[\"b\"])\n",
        "except IndexError:\n",
        "    print(\"Index out of range.\")\n",
        "except KeyError:\n",
        "    print(\"Key not found.\")\n"
      ],
      "metadata": {
        "colab": {
          "base_uri": "https://localhost:8080/"
        },
        "id": "7x767vth8xxv",
        "outputId": "c2425985-3022-48aa-bff0-b3bdbee5badb"
      },
      "execution_count": 6,
      "outputs": [
        {
          "output_type": "stream",
          "name": "stdout",
          "text": [
            "Index out of range.\n"
          ]
        }
      ]
    },
    {
      "cell_type": "markdown",
      "source": [
        "# 20. How would you open a file and read its contents using a context manager in Python?\n"
      ],
      "metadata": {
        "id": "1Q-vPQPr625e"
      }
    },
    {
      "cell_type": "code",
      "source": [
        "with open(\"example.txt\", \"r\") as file:\n",
        "    content = file.read()\n",
        "    print(content)\n"
      ],
      "metadata": {
        "id": "HXeGuQV181eX"
      },
      "execution_count": null,
      "outputs": []
    },
    {
      "cell_type": "markdown",
      "source": [
        "# 21. Write a Python program that reads a file and prints the number of occurrences of a specific word?\n"
      ],
      "metadata": {
        "id": "YthC3bRg63PA"
      }
    },
    {
      "cell_type": "code",
      "source": [
        "word_to_count = \"python\"\n",
        "with open(\"text.txt\", \"r\") as file:\n",
        "    content = file.read().lower()\n",
        "    count = content.count(word_to_count)\n",
        "    print(f\"'{word_to_count}' appears {count} times.\")\n"
      ],
      "metadata": {
        "id": "cN0KCznc87Xq"
      },
      "execution_count": null,
      "outputs": []
    },
    {
      "cell_type": "markdown",
      "source": [
        "# 22. How can you check if a file is empty before attempting to read its contents?"
      ],
      "metadata": {
        "id": "BzmWpGYZ630S"
      }
    },
    {
      "cell_type": "code",
      "source": [
        "import os\n",
        "\n",
        "if os.path.exists(\"empty.txt\") and os.stat(\"empty.txt\").st_size > 0:\n",
        "    with open(\"empty.txt\", \"r\") as file:\n",
        "        print(file.read())\n",
        "else:\n",
        "    print(\"File is empty or does not exist.\")\n"
      ],
      "metadata": {
        "id": "2nSelr6S89Aq"
      },
      "execution_count": null,
      "outputs": []
    },
    {
      "cell_type": "markdown",
      "source": [
        "# 23. Write a Python program that writes to a log file when an error occurs during file handling."
      ],
      "metadata": {
        "id": "VUZHr-fY65v_"
      }
    },
    {
      "cell_type": "code",
      "source": [
        "import logging\n",
        "\n",
        "logging.basicConfig(filename=\"file_error.log\", level=logging.ERROR)\n",
        "\n",
        "try:\n",
        "    with open(\"missing.txt\", \"r\") as file:\n",
        "        content = file.read()\n",
        "except FileNotFoundError:\n",
        "    logging.error(\"File not found error occurred.\")\n"
      ],
      "metadata": {
        "colab": {
          "base_uri": "https://localhost:8080/"
        },
        "id": "Q79tVY2O89-p",
        "outputId": "6c40d97c-e641-4c0c-92dc-b9cf865eee3e"
      },
      "execution_count": 8,
      "outputs": [
        {
          "output_type": "stream",
          "name": "stderr",
          "text": [
            "ERROR:root:File not found error occurred.\n"
          ]
        }
      ]
    }
  ]
}