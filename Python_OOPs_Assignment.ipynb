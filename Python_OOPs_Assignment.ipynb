{
  "nbformat": 4,
  "nbformat_minor": 0,
  "metadata": {
    "colab": {
      "provenance": []
    },
    "kernelspec": {
      "name": "python3",
      "display_name": "Python 3"
    },
    "language_info": {
      "name": "python"
    }
  },
  "cells": [
    {
      "cell_type": "markdown",
      "source": [
        "# 1.What is Object-Oriented Programming (OOP)?\n",
        "- OOP is a programming paradigm that organizes code into objects, which encapsulate data (attributes) and behaviors (methods). It is based on four main principles: Encapsulation, Abstraction, Inheritance, and Polymorphism.\n",
        "\n",
        "# 2.What is a class in OOP?\n",
        "- A class is a blueprint for creating objects. It defines attributes (variables) and methods (functions) that objects of the class will have.\n",
        "\n",
        "# 3.What is an object in OOP?\n",
        "- An object is an instance of a class. It has its own values for the attributes defined in the class and can use the class methods.\n",
        "\n",
        "# 4.What is the difference between abstraction and encapsulation?\n",
        "\n",
        "- **Abstraction** hides complex implementation details and exposes only the necessary parts. Example: A car’s interface (steering wheel, pedals) hides the engine mechanics.\n",
        "- **Encapsulation** restricts direct access to some components and prevents unintended modifications. Example: Using private variables (_var, __var) in Python.\n",
        "\n",
        "# 5.What are dunder methods in Python?\n",
        "\n",
        "- Dunder (double underscore) methods are special methods in Python that begin and end with __.\n",
        "Example: __init__() (constructor), __str__() (string representation), and __len__().\n",
        "\n",
        "# 6.Explain the concept of inheritance in OOP.\n",
        "\n",
        "- Inheritance allows a class (child) to inherit attributes and methods from another class (parent). This promotes reusability and hierarchical classification.\n",
        "\n",
        "# 7.What is polymorphism in OOP?\n",
        "\n",
        "- Polymorphism allows the same method name to be used for different types. Example: A draw() method may behave differently for Circle and Rectangle classes.\n",
        "\n",
        "# 8.How is encapsulation achieved in Python?\n",
        "- By using private (__var) and protected (_var) variables and defining getter and setter methods to control access.\n",
        "\n",
        "# 9.What is a constructor in Python?\n",
        "- A constructor (__init__ method) initializes an object when it is created.\n",
        "\n",
        "# 10.What are class and static methods in Python?\n",
        "\n",
        "- **Class methods** (@classmethod): Operate on the class itself and can modify class variables.\n",
        "- **Static methods** (@staticmethod): Independent functions inside a class that don’t modify class or instance attributes.\n",
        "\n",
        "# 11.What is method overloading in Python?\n",
        "- Python does not support true method overloading but allows default arguments or variable-length arguments (*args, **kwargs) to achieve similar behavior.\n",
        "\n",
        "# 12.What is method overriding in OOP?\n",
        "- A child class redefines a method from its parent class to provide a specific implementation.\n",
        "\n",
        "# 13.What is a property decorator in Python?\n",
        "- @property allows defining getter methods for attributes, making them readable like properties instead of calling methods.\n",
        "\n",
        "# 14.Why is polymorphism important in OOP?\n",
        "- It increases flexibility and scalability by allowing a single interface to support multiple implementations.\n",
        "\n",
        "# 15.What is an abstract class in Python?\n",
        "- An abstract class (from abc module) cannot be instantiated and must have at least one abstract method, enforcing subclasses to implement it.\n",
        "\n",
        "# 16.What are the advantages of OOP?\n",
        "\n",
        "- Code reusability (inheritance)\n",
        "- Scalability and modularity\n",
        "- Encapsulation enhances security\n",
        "- Easy maintenance and debugging\n",
        "\n",
        "# 17.What is the difference between a class variable and an instance variable?\n",
        "\n",
        "- Class variables are shared among all instances (defined outside methods).\n",
        "Instance variables are unique to each object (defined inside methods using self).\n",
        "\n",
        "# 18.What is multiple inheritance in Python?\n",
        "\n",
        "- A class can inherit from multiple parent classes, allowing it to combine behaviors from different classes.\n",
        "\n",
        "# 19. Explain the purpose of __str__ and __repr__ methods in Python.\n",
        "\n",
        "- __str__(): Returns a user-friendly string representation (str(object)).\n",
        "- __repr__(): Returns an unambiguous representation for debugging (repr(object)).\n",
        "\n",
        "# 20.What is the significance of the super() function in Python?\n",
        "\n",
        "- super() allows access to the parent class’s methods, enabling method overriding and multiple inheritance handling.\n",
        "\n",
        "# 21. What is the significance of the __del__ method in Python?\n",
        "\n",
        "- __del__() is the destructor method, called when an object is deleted to free resources.\n",
        "\n",
        "# 22.What is the difference between @staticmethod and @classmethod in Python?\n",
        "\n",
        "- **@staticmethod**: No access to instance (self) or class (cls).\n",
        "- **@classmethod**: Works with class (cls) and can modify class variables.\n",
        "\n",
        "# 23.How does polymorphism work in Python with inheritance?\n",
        "\n",
        "- Through method overriding, where a subclass provides a specific implementation of a method defined in the parent class.\n",
        "\n",
        "# 24.What is method chaining in Python OOP?\n",
        "\n",
        "- It allows multiple methods to be called on the same object in a single statement by returning self.\n",
        "\n",
        "# 25.What is the purpose of the __call__ method in Python?\n",
        "\n",
        "- It makes an object callable like a function, allowing instances to be used as functions."
      ],
      "metadata": {
        "id": "rkN2Th_s9EO4"
      }
    },
    {
      "cell_type": "markdown",
      "source": [
        "# Practical Questions"
      ],
      "metadata": {
        "id": "vjCB_kCYGld0"
      }
    },
    {
      "cell_type": "markdown",
      "source": [
        "# 1. Create a parent class Animal with a method speak() that prints a generic message. Create a child class Dog that overrides the speak() method to print \"Bark!\".\n",
        "\n",
        "\n"
      ],
      "metadata": {
        "id": "ZDoEjWpcE7ZI"
      }
    },
    {
      "cell_type": "code",
      "source": [
        "class Animal:\n",
        "    def speak(self):\n",
        "        print(\"This animal makes a sound.\")\n",
        "\n",
        "class Dog(Animal):\n",
        "    def speak(self):\n",
        "        print(\"Bark!\")\n",
        "\n",
        "# Example usage\n",
        "animal = Animal()\n",
        "animal.speak()  # Output: This animal makes a sound.\n",
        "\n",
        "dog = Dog()\n",
        "dog.speak()  # Output: Bark!\n"
      ],
      "metadata": {
        "colab": {
          "base_uri": "https://localhost:8080/"
        },
        "id": "kXt9wMUcGveb",
        "outputId": "225c21c9-77b2-45db-9566-cea5ac5f3194"
      },
      "execution_count": 1,
      "outputs": [
        {
          "output_type": "stream",
          "name": "stdout",
          "text": [
            "This animal makes a sound.\n",
            "Bark!\n"
          ]
        }
      ]
    },
    {
      "cell_type": "markdown",
      "source": [
        "# 2. Write a program to create an abstract class Shape with a method area(). Derive classes Circle and Rectangle from it and implement the area() method in both.\n",
        "\n",
        "\n"
      ],
      "metadata": {
        "id": "XlNk_Y0wFAnJ"
      }
    },
    {
      "cell_type": "code",
      "source": [
        "from abc import ABC, abstractmethod\n",
        "import math\n",
        "\n",
        "# Abstract class\n",
        "class Shape(ABC):\n",
        "    @abstractmethod\n",
        "    def area(self):\n",
        "        pass\n",
        "\n",
        "# Circle class\n",
        "class Circle(Shape):\n",
        "    def __init__(self, radius):\n",
        "        self.radius = radius\n",
        "\n",
        "    def area(self):\n",
        "        return math.pi * self.radius ** 2\n",
        "\n",
        "# Rectangle class\n",
        "class Rectangle(Shape):\n",
        "    def __init__(self, width, height):\n",
        "        self.width = width\n",
        "        self.height = height\n",
        "\n",
        "    def area(self):\n",
        "        return self.width * self.height\n",
        "\n",
        "# Taking user input\n",
        "shape_type = input(\"Enter shape (circle/rectangle): \").strip().lower()\n",
        "\n",
        "if shape_type == \"circle\":\n",
        "    radius = float(input(\"Enter the radius of the circle: \"))\n",
        "    circle = Circle(radius)\n",
        "    print(f\"Circle Area: {circle.area():.2f}\")\n",
        "\n",
        "elif shape_type == \"rectangle\":\n",
        "    width = float(input(\"Enter the width of the rectangle: \"))\n",
        "    height = float(input(\"Enter the height of the rectangle: \"))\n",
        "    rectangle = Rectangle(width, height)\n",
        "    print(f\"Rectangle Area: {rectangle.area()}\")\n",
        "\n",
        "else:\n",
        "    print(\"Invalid shape entered.\")\n"
      ],
      "metadata": {
        "colab": {
          "base_uri": "https://localhost:8080/"
        },
        "id": "DKPmjEDhHDSX",
        "outputId": "8ead0a13-95e7-4ce5-fd58-9662b3c0dbab"
      },
      "execution_count": 4,
      "outputs": [
        {
          "output_type": "stream",
          "name": "stdout",
          "text": [
            "Enter shape (circle/rectangle): rectangle\n",
            "Enter the width of the rectangle: 12\n",
            "Enter the height of the rectangle: 15\n",
            "Rectangle Area: 180.0\n"
          ]
        }
      ]
    },
    {
      "cell_type": "markdown",
      "source": [
        "# 3. Implement a multi-level inheritance scenario where a class Vehicle has an attribute type. Derive a class Car and further derive a class ElectricCar that adds a battery attribute.\n",
        "\n",
        "\n"
      ],
      "metadata": {
        "id": "z3ugx4rbFQbw"
      }
    },
    {
      "cell_type": "code",
      "source": [
        "# Base class\n",
        "class Vehicle:\n",
        "    def __init__(self, vehicle_type):\n",
        "        self.vehicle_type = vehicle_type\n",
        "\n",
        "    def display_info(self):\n",
        "        print(f\"Vehicle Type: {self.vehicle_type}\")\n",
        "\n",
        "# Derived class from Vehicle\n",
        "class Car(Vehicle):\n",
        "    def __init__(self, brand, model, vehicle_type=\"Car\"):\n",
        "        super().__init__(vehicle_type)\n",
        "        self.brand = brand\n",
        "        self.model = model\n",
        "\n",
        "    def display_info(self):\n",
        "        super().display_info()\n",
        "        print(f\"Car Brand: {self.brand}, Model: {self.model}\")\n",
        "\n",
        "# Further derived class from Car\n",
        "class ElectricCar(Car):\n",
        "    def __init__(self, brand, model, battery_capacity):\n",
        "        super().__init__(brand, model)\n",
        "        self.battery_capacity = battery_capacity  # in kWh\n",
        "\n",
        "    def display_info(self):\n",
        "        super().display_info()\n",
        "        print(f\"Battery Capacity: {self.battery_capacity} kWh\")\n",
        "\n",
        "# Example usage with user input\n",
        "brand = input(\"Enter car brand: \")\n",
        "model = input(\"Enter car model: \")\n",
        "battery_capacity = float(input(\"Enter battery capacity (kWh): \"))\n",
        "\n",
        "ev = ElectricCar(brand, model, battery_capacity)\n",
        "print(\"\\nElectric Car Details:\")\n",
        "ev.display_info()\n"
      ],
      "metadata": {
        "colab": {
          "base_uri": "https://localhost:8080/"
        },
        "id": "489aqagYHttX",
        "outputId": "801acd55-0efd-44c7-bdd1-5951796bbc3f"
      },
      "execution_count": 5,
      "outputs": [
        {
          "output_type": "stream",
          "name": "stdout",
          "text": [
            "Enter car brand: tesla\n",
            "Enter car model: 2019\n",
            "Enter battery capacity (kWh): 12\n",
            "\n",
            "Electric Car Details:\n",
            "Vehicle Type: Car\n",
            "Car Brand: tesla, Model: 2019\n",
            "Battery Capacity: 12.0 kWh\n"
          ]
        }
      ]
    },
    {
      "cell_type": "markdown",
      "source": [
        "# 4. Implement a multi-level inheritance scenario where a class Vehicle has an attribute type. Derive a class Car and further derive a class ElectricCar that adds a battery attribute.\n",
        "\n",
        "\n"
      ],
      "metadata": {
        "id": "loc904ciFxO7"
      }
    },
    {
      "cell_type": "code",
      "source": [
        "# Base class\n",
        "class Vehicle:\n",
        "    def __init__(self, vehicle_type):\n",
        "        self.vehicle_type = vehicle_type\n",
        "\n",
        "    def display_info(self):\n",
        "        print(f\"Vehicle Type: {self.vehicle_type}\")\n",
        "\n",
        "# Derived class from Vehicle\n",
        "class Car(Vehicle):\n",
        "    def __init__(self, brand, model, vehicle_type=\"Car\"):\n",
        "        super().__init__(vehicle_type)\n",
        "        self.brand = brand\n",
        "        self.model = model\n",
        "\n",
        "    def display_info(self):\n",
        "        super().display_info()\n",
        "        print(f\"Car Brand: {self.brand}, Model: {self.model}\")\n",
        "\n",
        "# Further derived class from Car\n",
        "class ElectricCar(Car):\n",
        "    def __init__(self, brand, model, battery_capacity):\n",
        "        super().__init__(brand, model)\n",
        "        self.battery_capacity = battery_capacity  # in kWh\n",
        "\n",
        "    def display_info(self):\n",
        "        super().display_info()\n",
        "        print(f\"Battery Capacity: {self.battery_capacity} kWh\")\n",
        "\n",
        "# Example usage\n",
        "ev = ElectricCar(\"Tesla\", \"Model 3\", 75)\n",
        "print(\"Electric Car Details:\")\n",
        "ev.display_info()\n"
      ],
      "metadata": {
        "colab": {
          "base_uri": "https://localhost:8080/"
        },
        "id": "jlBOZ32xICrn",
        "outputId": "d5676996-c2de-4ba3-f6da-9244823e8f6d"
      },
      "execution_count": 6,
      "outputs": [
        {
          "output_type": "stream",
          "name": "stdout",
          "text": [
            "Electric Car Details:\n",
            "Vehicle Type: Car\n",
            "Car Brand: Tesla, Model: Model 3\n",
            "Battery Capacity: 75 kWh\n"
          ]
        }
      ]
    },
    {
      "cell_type": "markdown",
      "source": [
        "# 5. Write a program to demonstrate encapsulation by creating a class BankAccount with private attributes balance and methods to deposit, withdraw, and check balance.\n",
        "\n",
        "\n"
      ],
      "metadata": {
        "id": "GPe_g7a8F1e8"
      }
    },
    {
      "cell_type": "code",
      "source": [
        "class BankAccount:\n",
        "    def __init__(self, initial_balance=0):\n",
        "        self.__balance = initial_balance  # Private attribute\n",
        "\n",
        "    def deposit(self, amount):\n",
        "        if amount > 0:\n",
        "            self.__balance += amount\n",
        "            print(f\"Deposited: ${amount:.2f}\")\n",
        "        else:\n",
        "            print(\"Deposit amount must be positive.\")\n",
        "\n",
        "    def withdraw(self, amount):\n",
        "        if 0 < amount <= self.__balance:\n",
        "            self.__balance -= amount\n",
        "            print(f\"Withdrawn: ${amount:.2f}\")\n",
        "        else:\n",
        "            print(\"Insufficient balance or invalid amount.\")\n",
        "\n",
        "    def check_balance(self):\n",
        "        print(f\"Current Balance: ${self.__balance:.2f}\")\n",
        "\n",
        "# Taking user input\n",
        "initial_balance = float(input(\"Enter initial balance: \"))\n",
        "account = BankAccount(initial_balance)\n",
        "\n",
        "while True:\n",
        "    print(\"\\nChoose an option:\")\n",
        "    print(\"1. Deposit\")\n",
        "    print(\"2. Withdraw\")\n",
        "    print(\"3. Check Balance\")\n",
        "    print(\"4. Exit\")\n",
        "\n",
        "    choice = input(\"Enter choice (1-4): \")\n",
        "\n",
        "    if choice == \"1\":\n",
        "        amount = float(input(\"Enter deposit amount: \"))\n",
        "        account.deposit(amount)\n",
        "    elif choice == \"2\":\n",
        "        amount = float(input(\"Enter withdrawal amount: \"))\n",
        "        account.withdraw(amount)\n",
        "    elif choice == \"3\":\n",
        "        account.check_balance()\n",
        "    elif choice == \"4\":\n",
        "        print(\"Exiting... Thank you for banking with us!\")\n",
        "        break\n",
        "    else:\n",
        "        print(\"Invalid choice. Please enter a number between 1 and 4.\")\n"
      ],
      "metadata": {
        "colab": {
          "base_uri": "https://localhost:8080/"
        },
        "id": "Rl6KOllOITtL",
        "outputId": "000432a7-0aba-48fd-9af7-59e5c958b7ad"
      },
      "execution_count": 9,
      "outputs": [
        {
          "output_type": "stream",
          "name": "stdout",
          "text": [
            "Enter initial balance: 250\n",
            "\n",
            "Choose an option:\n",
            "1. Deposit\n",
            "2. Withdraw\n",
            "3. Check Balance\n",
            "4. Exit\n",
            "Enter choice (1-4): 2\n",
            "Enter withdrawal amount: 112\n",
            "Withdrawn: $112.00\n",
            "\n",
            "Choose an option:\n",
            "1. Deposit\n",
            "2. Withdraw\n",
            "3. Check Balance\n",
            "4. Exit\n",
            "Enter choice (1-4): 3\n",
            "Current Balance: $138.00\n",
            "\n",
            "Choose an option:\n",
            "1. Deposit\n",
            "2. Withdraw\n",
            "3. Check Balance\n",
            "4. Exit\n",
            "Enter choice (1-4): 4\n",
            "Exiting... Thank you for banking with us!\n"
          ]
        }
      ]
    },
    {
      "cell_type": "markdown",
      "source": [
        "# 6. Demonstrate runtime polymorphism using a method play() in a base class Instrument. Derive classes Guitar and Piano that implement their own version of play().\n",
        "\n",
        "\n"
      ],
      "metadata": {
        "id": "hXNywWNwF5FZ"
      }
    },
    {
      "cell_type": "code",
      "source": [
        "# Base class\n",
        "class Instrument:\n",
        "    def play(self):\n",
        "        print(\"Playing an instrument...\")\n",
        "\n",
        "# Derived class: Guitar\n",
        "class Guitar(Instrument):\n",
        "    def play(self):\n",
        "        print(\"Strumming the guitar 🎸...\")\n",
        "\n",
        "# Derived class: Piano\n",
        "class Piano(Instrument):\n",
        "    def play(self):\n",
        "        print(\"Playing the piano 🎹...\")\n",
        "\n",
        "# Function to demonstrate runtime polymorphism\n",
        "def play_instrument(instrument):\n",
        "    instrument.play()\n",
        "\n",
        "# Taking user input\n",
        "instrument_type = input(\"Enter instrument (guitar/piano): \").strip().lower()\n",
        "\n",
        "if instrument_type == \"guitar\":\n",
        "    instrument = Guitar()\n",
        "elif instrument_type == \"piano\":\n",
        "    instrument = Piano()\n",
        "else:\n",
        "    print(\"Invalid instrument choice.\")\n",
        "    exit()\n",
        "\n",
        "# Demonstrating polymorphism\n",
        "play_instrument(instrument)\n"
      ],
      "metadata": {
        "colab": {
          "base_uri": "https://localhost:8080/"
        },
        "id": "oSo-hef6Iz7n",
        "outputId": "7eb7306c-3a9c-42c2-d1fa-320269ec9977"
      },
      "execution_count": 10,
      "outputs": [
        {
          "output_type": "stream",
          "name": "stdout",
          "text": [
            "Enter instrument (guitar/piano): guitar\n",
            "Strumming the guitar 🎸...\n"
          ]
        }
      ]
    },
    {
      "cell_type": "markdown",
      "source": [
        "# 7. Create a class MathOperations with a class method add_numbers() to add two numbers and a static method subtract_numbers() to subtract two numbers.\n",
        "\n",
        "\n"
      ],
      "metadata": {
        "id": "-2tqoccDF7_R"
      }
    },
    {
      "cell_type": "code",
      "source": [
        "class MathOperations:\n",
        "    @classmethod\n",
        "    def add_numbers(cls, a, b):\n",
        "        return a + b\n",
        "\n",
        "    @staticmethod\n",
        "    def subtract_numbers(a, b):\n",
        "        return a - b\n",
        "\n",
        "# Taking user input\n",
        "num1 = float(input(\"Enter first number: \"))\n",
        "num2 = float(input(\"Enter second number: \"))\n",
        "\n",
        "# Using class method and static method\n",
        "sum_result = MathOperations.add_numbers(num1, num2)\n",
        "difference_result = MathOperations.subtract_numbers(num1, num2)\n",
        "\n",
        "print(f\"Sum: {sum_result}\")\n",
        "print(f\"Difference: {difference_result}\")\n"
      ],
      "metadata": {
        "colab": {
          "base_uri": "https://localhost:8080/"
        },
        "id": "tyl35XcXJG7G",
        "outputId": "1b52947b-eda0-477f-8b67-6d12ba635948"
      },
      "execution_count": 11,
      "outputs": [
        {
          "output_type": "stream",
          "name": "stdout",
          "text": [
            "Enter first number: 250\n",
            "Enter second number: 124\n",
            "Sum: 374.0\n",
            "Difference: 126.0\n"
          ]
        }
      ]
    },
    {
      "cell_type": "markdown",
      "source": [
        "# 8. Implement a class Person with a class method to count the total number of persons created.\n",
        "\n",
        "\n"
      ],
      "metadata": {
        "id": "rgYvJkyBGAm3"
      }
    },
    {
      "cell_type": "code",
      "source": [
        "class Person:\n",
        "    count = 0  # Class variable to keep track of the number of persons\n",
        "\n",
        "    def __init__(self, name):\n",
        "        self.name = name\n",
        "        Person.count += 1  # Increment count when a new person is created\n",
        "\n",
        "    @classmethod\n",
        "    def get_total_persons(cls):\n",
        "        return cls.count  # Accessing the class variable\n",
        "\n",
        "# Taking user input for creating persons\n",
        "num_people = int(input(\"Enter the number of persons to create: \"))\n",
        "\n",
        "for i in range(num_people):\n",
        "    name = input(f\"Enter name for person {i+1}: \")\n",
        "    Person(name)  # Creating a new Person object\n",
        "\n",
        "# Displaying total number of persons created\n",
        "print(f\"\\nTotal number of persons created: {Person.get_total_persons()}\")\n"
      ],
      "metadata": {
        "colab": {
          "base_uri": "https://localhost:8080/"
        },
        "id": "NlofYUeWJRjT",
        "outputId": "f7728b3f-d452-4f27-9bd3-622beeb859c9"
      },
      "execution_count": 13,
      "outputs": [
        {
          "output_type": "stream",
          "name": "stdout",
          "text": [
            "Enter the number of persons to create: 2\n",
            "Enter name for person 1: ankit\n",
            "Enter name for person 2: aman\n",
            "\n",
            "Total number of persons created: 2\n"
          ]
        }
      ]
    },
    {
      "cell_type": "markdown",
      "source": [
        "# 9. Write a class Fraction with attributes numerator and denominator. Override the str method to display the fraction as \"numerator/denominator\".\n",
        "\n",
        "\n"
      ],
      "metadata": {
        "id": "E_6bu3cmGCvw"
      }
    },
    {
      "cell_type": "code",
      "source": [
        "class Fraction:\n",
        "    def __init__(self, numerator, denominator):\n",
        "        if denominator == 0:\n",
        "            raise ValueError(\"Denominator cannot be zero.\")  # Prevent division by zero\n",
        "        self.numerator = numerator\n",
        "        self.denominator = denominator\n",
        "\n",
        "    def __str__(self):\n",
        "        return f\"{self.numerator}/{self.denominator}\"  # Custom string representation\n",
        "\n",
        "# Taking user input\n",
        "num = int(input(\"Enter numerator: \"))\n",
        "den = int(input(\"Enter denominator: \"))\n",
        "\n",
        "try:\n",
        "    fraction = Fraction(num, den)\n",
        "    print(f\"Fraction: {fraction}\")  # Calls __str__ method automatically\n",
        "except ValueError as e:\n",
        "    print(e)\n"
      ],
      "metadata": {
        "colab": {
          "base_uri": "https://localhost:8080/"
        },
        "id": "5LLPY9bhJoir",
        "outputId": "00c675f5-c53e-475c-d4bd-f219ed85316c"
      },
      "execution_count": 14,
      "outputs": [
        {
          "output_type": "stream",
          "name": "stdout",
          "text": [
            "Enter numerator: 22\n",
            "Enter denominator: 2\n",
            "Fraction: 22/2\n"
          ]
        }
      ]
    },
    {
      "cell_type": "markdown",
      "source": [
        "# 10. Demonstrate operator overloading by creating a class Vector and overriding the add method to add two vectors.\n",
        "\n",
        "\n"
      ],
      "metadata": {
        "id": "RNBbF9f6GFMH"
      }
    },
    {
      "cell_type": "code",
      "source": [
        "class Vector:\n",
        "    def __init__(self, x, y):\n",
        "        self.x = x\n",
        "        self.y = y\n",
        "\n",
        "    def __add__(self, other):\n",
        "        if isinstance(other, Vector):\n",
        "            return Vector(self.x + other.x, self.y + other.y)\n",
        "        raise TypeError(\"Addition is only supported between two Vector objects.\")\n",
        "\n",
        "    def __str__(self):\n",
        "        return f\"({self.x}, {self.y})\"  # Custom string representation\n",
        "\n",
        "# Taking user input for two vectors\n",
        "x1, y1 = map(int, input(\"Enter x and y for first vector: \").split())\n",
        "x2, y2 = map(int, input(\"Enter x and y for second vector: \").split())\n",
        "\n",
        "v1 = Vector(x1, y1)\n",
        "v2 = Vector(x2, y2)\n",
        "\n",
        "# Adding two vectors\n",
        "result = v1 + v2\n",
        "\n",
        "print(f\"Vector 1: {v1}\")\n",
        "print(f\"Vector 2: {v2}\")\n",
        "print(f\"Sum of Vectors: {result}\")\n",
        "\n"
      ],
      "metadata": {
        "colab": {
          "base_uri": "https://localhost:8080/"
        },
        "id": "S2yfhciyKBI_",
        "outputId": "feead205-3be0-4f05-db6c-f59c6eebaf22"
      },
      "execution_count": 19,
      "outputs": [
        {
          "output_type": "stream",
          "name": "stdout",
          "text": [
            "Enter x and y for first vector: 3 4\n",
            "Enter x and y for second vector: 12 11\n",
            "Vector 1: (3, 4)\n",
            "Vector 2: (12, 11)\n",
            "Sum of Vectors: (15, 15)\n"
          ]
        }
      ]
    },
    {
      "cell_type": "markdown",
      "source": [
        "# 11. Create a class Person with attributes name and age. Add a method greet() that prints \"Hello, my name is {name} and I am {age} years old.\"\n",
        "\n",
        "\n"
      ],
      "metadata": {
        "id": "XLJDWwALGHGX"
      }
    },
    {
      "cell_type": "code",
      "source": [
        "class Person:\n",
        "    def __init__(self, name, age):\n",
        "        self.name = name\n",
        "        self.age = age\n",
        "\n",
        "    def greet(self):\n",
        "        print(f\"Hello, my name is {self.name} and I am {self.age} years old.\")\n",
        "\n",
        "# Taking user input\n",
        "name = input(\"Enter your name: \")\n",
        "age = int(input(\"Enter your age: \"))\n",
        "\n",
        "# Creating a Person object and calling greet()\n",
        "person = Person(name, age)\n",
        "person.greet()\n"
      ],
      "metadata": {
        "colab": {
          "base_uri": "https://localhost:8080/"
        },
        "id": "HLOTqCicKkMm",
        "outputId": "f390ae27-4356-44fe-c873-c0900c3b51e4"
      },
      "execution_count": 20,
      "outputs": [
        {
          "output_type": "stream",
          "name": "stdout",
          "text": [
            "Enter your name: Ankit\n",
            "Enter your age: 25\n",
            "Hello, my name is Ankit and I am 25 years old.\n"
          ]
        }
      ]
    },
    {
      "cell_type": "markdown",
      "source": [
        "# 12. Implement a class Student with attributes name and grades. Create a method average_grade() to compute the average of the grades.\n",
        "\n",
        "\n"
      ],
      "metadata": {
        "id": "5fEKc4rtGJs5"
      }
    },
    {
      "cell_type": "code",
      "source": [
        "class Student:\n",
        "    def __init__(self, name, grades):\n",
        "        self.name = name\n",
        "        self.grades = grades  # List of grades\n",
        "\n",
        "    def average_grade(self):\n",
        "        if not self.grades:\n",
        "            return 0  # Return 0 if no grades are available\n",
        "        return sum(self.grades) / len(self.grades)\n",
        "\n",
        "# Taking user input\n",
        "name = input(\"Enter student name: \")\n",
        "grades = list(map(float, input(\"Enter grades separated by spaces: \").split()))\n",
        "\n",
        "# Creating a Student object and calculating the average grade\n",
        "student = Student(name, grades)\n",
        "avg = student.average_grade()\n",
        "\n",
        "print(f\"{student.name}'s average grade: {avg:.2f}\")\n"
      ],
      "metadata": {
        "colab": {
          "base_uri": "https://localhost:8080/"
        },
        "id": "Lj6db-jIK15p",
        "outputId": "f4b35f2e-92d1-4732-d8fc-2b9f303010b3"
      },
      "execution_count": 21,
      "outputs": [
        {
          "output_type": "stream",
          "name": "stdout",
          "text": [
            "Enter student name: Ankit\n",
            "Enter grades separated by spaces: 89 91\n",
            "Ankit's average grade: 90.00\n"
          ]
        }
      ]
    },
    {
      "cell_type": "markdown",
      "source": [
        "# 13. Create a class Rectangle with methods set_dimensions() to set the dimensions and area() to calculate the area.\n",
        "\n",
        "\n"
      ],
      "metadata": {
        "id": "9NSEm2EyGLcJ"
      }
    },
    {
      "cell_type": "code",
      "source": [
        "class Rectangle:\n",
        "    def __init__(self):\n",
        "        self.length = 0\n",
        "        self.width = 0\n",
        "\n",
        "    def set_dimensions(self, length, width):\n",
        "        if length <= 0 or width <= 0:\n",
        "            print(\"Length and width must be positive values.\")\n",
        "            return\n",
        "        self.length = length\n",
        "        self.width = width\n",
        "\n",
        "    def area(self):\n",
        "        return self.length * self.width\n",
        "\n",
        "# Taking user input\n",
        "length = float(input(\"Enter length of the rectangle: \"))\n",
        "width = float(input(\"Enter width of the rectangle: \"))\n",
        "\n",
        "# Creating a Rectangle object and setting dimensions\n",
        "rect = Rectangle()\n",
        "rect.set_dimensions(length, width)\n",
        "\n",
        "# Calculating and displaying the area\n",
        "print(f\"Rectangle Area: {rect.area()}\")\n"
      ],
      "metadata": {
        "colab": {
          "base_uri": "https://localhost:8080/"
        },
        "id": "rdx9MH-jLDrz",
        "outputId": "a5432efe-6384-4ad9-8959-30ad80607a84"
      },
      "execution_count": 22,
      "outputs": [
        {
          "output_type": "stream",
          "name": "stdout",
          "text": [
            "Enter length of the rectangle: 12\n",
            "Enter width of the rectangle: 21\n",
            "Rectangle Area: 252.0\n"
          ]
        }
      ]
    },
    {
      "cell_type": "markdown",
      "source": [
        "# 14. Create a class Employee with a method calculate_salary() that computes the salary based on hours worked and hourly rate. Create a derived class Manager that adds a bonus to the salary."
      ],
      "metadata": {
        "id": "jt-LtSkXGNSw"
      }
    },
    {
      "cell_type": "code",
      "source": [
        "class Employee:\n",
        "    def __init__(self, name, hours_worked, hourly_rate):\n",
        "        self.name = name\n",
        "        self.hours_worked = hours_worked\n",
        "        self.hourly_rate = hourly_rate\n",
        "\n",
        "    def calculate_salary(self):\n",
        "        return self.hours_worked * self.hourly_rate\n",
        "\n",
        "class Manager(Employee):\n",
        "    def __init__(self, name, hours_worked, hourly_rate, bonus):\n",
        "        super().__init__(name, hours_worked, hourly_rate)\n",
        "        self.bonus = bonus\n",
        "\n",
        "    def calculate_salary(self):\n",
        "        return super().calculate_salary() + self.bonus  # Add bonus to base salary\n",
        "\n",
        "# Taking user input\n",
        "name = input(\"Enter employee name: \")\n",
        "hours_worked = float(input(\"Enter hours worked: \"))\n",
        "hourly_rate = float(input(\"Enter hourly rate: \"))\n",
        "is_manager = input(\"Is this employee a manager? (yes/no): \").strip().lower()\n",
        "\n",
        "if is_manager == \"yes\":\n",
        "    bonus = float(input(\"Enter manager's bonus: \"))\n",
        "    employee = Manager(name, hours_worked, hourly_rate, bonus)\n",
        "else:\n",
        "    employee = Employee(name, hours_worked, hourly_rate)\n",
        "\n",
        "# Calculating and displaying salary\n",
        "print(f\"{employee.name}'s Salary: ${employee.calculate_salary():.2f}\")\n"
      ],
      "metadata": {
        "colab": {
          "base_uri": "https://localhost:8080/"
        },
        "id": "3U5jTz9fLN77",
        "outputId": "068a6044-b0c2-4d5c-c33a-25ed73508384"
      },
      "execution_count": 23,
      "outputs": [
        {
          "output_type": "stream",
          "name": "stdout",
          "text": [
            "Enter employee name: Ankit\n",
            "Enter hours worked: 14\n",
            "Enter hourly rate: 100\n",
            "Is this employee a manager? (yes/no): no\n",
            "Ankit's Salary: $1400.00\n"
          ]
        }
      ]
    },
    {
      "cell_type": "markdown",
      "source": [
        "# 15. Create a class Product with attributes name, price, and quantity. Implement a method total_price() that calculates the total price of the product.\n",
        "\n",
        "\n"
      ],
      "metadata": {
        "id": "_b0YCXxKGOcR"
      }
    },
    {
      "cell_type": "code",
      "source": [
        "class Product:\n",
        "    def __init__(self, name, price, quantity):\n",
        "        if price < 0 or quantity < 0:\n",
        "            raise ValueError(\"Price and quantity must be non-negative.\")\n",
        "        self.name = name\n",
        "        self.price = price\n",
        "        self.quantity = quantity\n",
        "\n",
        "    def total_price(self):\n",
        "        return self.price * self.quantity\n",
        "\n",
        "# Taking user input\n",
        "name = input(\"Enter product name: \")\n",
        "price = float(input(\"Enter price per unit: \"))\n",
        "quantity = int(input(\"Enter quantity: \"))\n",
        "\n",
        "try:\n",
        "    product = Product(name, price, quantity)\n",
        "    print(f\"Total price for {product.quantity} {product.name}(s): ${product.total_price():.2f}\")\n",
        "except ValueError as e:\n",
        "    print(e)\n"
      ],
      "metadata": {
        "colab": {
          "base_uri": "https://localhost:8080/"
        },
        "id": "dbH1UtOHLabF",
        "outputId": "dd5cc6cd-c620-4010-fec0-dda3f8d4eec6"
      },
      "execution_count": 24,
      "outputs": [
        {
          "output_type": "stream",
          "name": "stdout",
          "text": [
            "Enter product name: SPOON\n",
            "Enter price per unit: 21\n",
            "Enter quantity: 10\n",
            "Total price for 10 SPOON(s): $210.00\n"
          ]
        }
      ]
    },
    {
      "cell_type": "markdown",
      "source": [
        "# 16. Create a class Animal with an abstract method sound(). Create two derived classes Cow and Sheep that implement the sound() method.\n",
        "\n",
        "\n"
      ],
      "metadata": {
        "id": "A2am8aLZGc-T"
      }
    },
    {
      "cell_type": "code",
      "source": [
        "from abc import ABC, abstractmethod\n",
        "\n",
        "# Abstract base class\n",
        "class Animal(ABC):\n",
        "    @abstractmethod\n",
        "    def sound(self):\n",
        "        pass  # Abstract method to be implemented by subclasses\n",
        "\n",
        "# Derived class: Cow\n",
        "class Cow(Animal):\n",
        "    def sound(self):\n",
        "        return \"Moo! 🐄\"\n",
        "\n",
        "# Derived class: Sheep\n",
        "class Sheep(Animal):\n",
        "    def sound(self):\n",
        "        return \"Baa! 🐑\"\n",
        "\n",
        "# Taking user input\n",
        "animal_type = input(\"Enter animal (cow/sheep): \").strip().lower()\n",
        "\n",
        "if animal_type == \"cow\":\n",
        "    animal = Cow()\n",
        "elif animal_type == \"sheep\":\n",
        "    animal = Sheep()\n",
        "else:\n",
        "    print(\"Invalid animal choice.\")\n",
        "    exit()\n",
        "\n",
        "# Displaying the sound\n",
        "print(f\"The {animal_type} says: {animal.sound()}\")\n"
      ],
      "metadata": {
        "colab": {
          "base_uri": "https://localhost:8080/"
        },
        "id": "zlSi9BQSLn0e",
        "outputId": "14e6e881-1c00-4416-9179-12a324fffbea"
      },
      "execution_count": 25,
      "outputs": [
        {
          "output_type": "stream",
          "name": "stdout",
          "text": [
            "Enter animal (cow/sheep): cow\n",
            "The cow says: Moo! 🐄\n"
          ]
        }
      ]
    },
    {
      "cell_type": "markdown",
      "source": [
        "# 17. Create a class Book with attributes title, author, and year_published. Add a method get_book_info() that returns a formatted string with the book's details.\n",
        "\n",
        "\n"
      ],
      "metadata": {
        "id": "5tYkyEyEGfLU"
      }
    },
    {
      "cell_type": "code",
      "source": [
        "class Book:\n",
        "    def __init__(self, title, author, year_published):\n",
        "        self.title = title\n",
        "        self.author = author\n",
        "        self.year_published = year_published\n",
        "\n",
        "    def get_book_info(self):\n",
        "        return f\"'{self.title}' by {self.author}, published in {self.year_published}.\"\n",
        "\n",
        "# Taking user input\n",
        "title = input(\"Enter book title: \")\n",
        "author = input(\"Enter book author: \")\n",
        "year_published = input(\"Enter year published: \")\n",
        "\n",
        "# Creating a Book object\n",
        "book = Book(title, author, year_published)\n",
        "\n",
        "# Displaying book details\n",
        "print(\"\\nBook Information:\")\n",
        "print(book.get_book_info())\n"
      ],
      "metadata": {
        "colab": {
          "base_uri": "https://localhost:8080/"
        },
        "id": "Ota960uvL5L_",
        "outputId": "37369233-092e-4e7c-e3d0-76796ba05869"
      },
      "execution_count": 26,
      "outputs": [
        {
          "output_type": "stream",
          "name": "stdout",
          "text": [
            "Enter book title: MONEY\n",
            "Enter book author: PWSKILL\n",
            "Enter year published: 2017\n",
            "\n",
            "Book Information:\n",
            "'MONEY' by PWSKILL, published in 2017.\n"
          ]
        }
      ]
    },
    {
      "cell_type": "markdown",
      "source": [
        "# 18. Create a class House with attributes address and price. Create a derived class Mansion that adds an attribute number_of_rooms."
      ],
      "metadata": {
        "id": "XSb69uU5Ghuc"
      }
    },
    {
      "cell_type": "code",
      "source": [
        "class House:\n",
        "    def __init__(self, address, price):\n",
        "        self.address = address\n",
        "        self.price = price\n",
        "\n",
        "    def get_info(self):\n",
        "        return f\"Address: {self.address}, Price: ${self.price:,}\"\n",
        "\n",
        "class Mansion(House):\n",
        "    def __init__(self, address, price, number_of_rooms):\n",
        "        super().__init__(address, price)\n",
        "        self.number_of_rooms = number_of_rooms\n",
        "\n",
        "    def get_info(self):\n",
        "        return f\"{super().get_info()}, Number of rooms: {self.number_of_rooms}\"\n",
        "\n",
        "# Taking user input\n",
        "address = input(\"Enter house address: \")\n",
        "price = float(input(\"Enter house price: \"))\n",
        "is_mansion = input(\"Is this a mansion? (yes/no): \").strip().lower()\n",
        "\n",
        "if is_mansion == \"yes\":\n",
        "    number_of_rooms = int(input(\"Enter number of rooms: \"))\n",
        "    house = Mansion(address, price, number_of_rooms)\n",
        "else:\n",
        "    house = House(address, price)\n",
        "\n",
        "# Displaying house details\n",
        "print(\"\\nHouse Information:\")\n",
        "print(house.get_info())\n",
        "\n"
      ],
      "metadata": {
        "colab": {
          "base_uri": "https://localhost:8080/"
        },
        "id": "c5wsuJsaMBOj",
        "outputId": "67765bf3-6502-4e44-b440-4c16255ddf8a"
      },
      "execution_count": 28,
      "outputs": [
        {
          "output_type": "stream",
          "name": "stdout",
          "text": [
            "Enter house address: 22, SATNA \n",
            "Enter house price: 2200000\n",
            "Is this a mansion? (yes/no): yes\n",
            "Enter number of rooms: 5\n",
            "\n",
            "House Information:\n",
            "Address: 22, SATNA , Price: $2,200,000.0, Number of rooms: 5\n"
          ]
        }
      ]
    }
  ]
}