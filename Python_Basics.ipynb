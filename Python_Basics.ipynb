{
  "nbformat": 4,
  "nbformat_minor": 0,
  "metadata": {
    "colab": {
      "provenance": []
    },
    "kernelspec": {
      "name": "python3",
      "display_name": "Python 3"
    },
    "language_info": {
      "name": "python"
    }
  },
  "cells": [
    {
      "cell_type": "code",
      "execution_count": null,
      "metadata": {
        "id": "gmi_PvxHX9pk"
      },
      "outputs": [],
      "source": []
    },
    {
      "cell_type": "markdown",
      "source": [
        "#Python Basics Questions\n",
        "\n",
        "1. What is Python, and why is it popular?\n",
        "- Python is a programming language that’s super easy to learn and use. It’s popular because it’s beginner-friendly, works for a ton of stuff (like making websites, analyzing data, or building AI), and has a huge community with tons of helpful libraries to make coding easier.\n",
        "   - Easy Syntax: Python's syntax is simple and very much like English.\n",
        "   - Versatility: Python is used for web, data, AI, ML, and automation.\n",
        "   - Rich Libraries: Python offers standard and third-party libraries.\n",
        "   - Community Support: Python has a large and active community.\n",
        "   - Cross-Platform: Python works seamlessly on multiple platforms.\n"
      ],
      "metadata": {
        "id": "PJ-Xr6ruZ8XU"
      }
    },
    {
      "cell_type": "code",
      "source": [],
      "metadata": {
        "id": "3RCVQuwWbKi0"
      },
      "execution_count": null,
      "outputs": []
    },
    {
      "cell_type": "markdown",
      "source": [
        "2. What is an interpreter in Python?\n",
        "\n",
        "- An interpreter is like a translator that reads your Python code line by line and runs it on your computer. It’s why you can see your code’s output immediately."
      ],
      "metadata": {
        "id": "yNmqLAeccEI3"
      }
    },
    {
      "cell_type": "markdown",
      "source": [
        "3. What are pre-defined keywords in Python?\n",
        "- Keywords are like special reserved words in Python. You can’t just use them for whatever you want because they already have a job, like if, else, while, True, etc. They’re the building blocks of Python code.\n"
      ],
      "metadata": {
        "id": "sKUZ50lhcWdy"
      }
    },
    {
      "cell_type": "markdown",
      "source": [
        "4. Can keywords be used as variable names?\n",
        "- No, \"not allowed\" Keywords are reserved for specific things in Python, so you can’t use them as names for your variables.\n"
      ],
      "metadata": {
        "id": "GubFcqt4cnff"
      }
    },
    {
      "cell_type": "markdown",
      "source": [
        "5. What is mutability in Python?\n",
        "- Mutability holds a question with in it, \"Can you change it later?\" If an object is mutable, you can change it. If it’s immutable, no, it’s locked in place once created."
      ],
      "metadata": {
        "id": "mNS6yje_c5Zu"
      }
    },
    {
      "cell_type": "markdown",
      "source": [
        "6. Why are lists mutable, but tuples are immutable?\n",
        "- Lists in Python are mutable, allowing easy modification of elements, making them ideal for dynamic tasks.\n",
        "- Tuples, being immutable, ensure data integrity and are suitable for use as dictionary keys or set elements.\n"
      ],
      "metadata": {
        "id": "W-sayOXMdbIR"
      }
    },
    {
      "cell_type": "markdown",
      "source": [
        "7. What is the difference between == and is operators in Python?\n",
        "- \"==\" checks if two things are equal in value.\n",
        "\"is\" checks if two things are the exact same object in memory.\n",
        "\n"
      ],
      "metadata": {
        "id": "lRS9C-MefJeZ"
      }
    },
    {
      "cell_type": "code",
      "source": [
        "#Example:\n",
        "a = [1, 2, 3]\n",
        "b = [1, 2, 3]\n",
        "print(a == b)  # True, values are the same\n",
        "print(a is b)  # False, different objects"
      ],
      "metadata": {
        "colab": {
          "base_uri": "https://localhost:8080/"
        },
        "id": "AdtEBVkhfZBN",
        "outputId": "e3600eb0-3e63-486c-a62e-8f12b1567418"
      },
      "execution_count": null,
      "outputs": [
        {
          "output_type": "stream",
          "name": "stdout",
          "text": [
            "True\n",
            "False\n"
          ]
        }
      ]
    },
    {
      "cell_type": "markdown",
      "source": [
        "8. What are logical operators in Python?\n",
        "- Logical operators are words like and, or, and not that help combine or flip conditions:\n",
        "     - and → Both things need to be true.\n",
        "     - or → Only one thing needs to be true.\n",
        "     - not → Flips true to false and vice versa.\n"
      ],
      "metadata": {
        "id": "RX7PG0pwfiVd"
      }
    },
    {
      "cell_type": "markdown",
      "source": [
        "9. What is type casting in Python?\n",
        "- Type casting is changing one type of data into another. Like turning a string \"5\" into a number 5."
      ],
      "metadata": {
        "id": "2xbgwk9Kf_wK"
      }
    },
    {
      "cell_type": "code",
      "source": [
        "# Type casting example\n",
        "string_value = \"5\"\n",
        "int_value = int(string_value)  # Casting string to integer\n",
        "\n",
        "print(type(string_value))  # Output: <class 'str'>\n",
        "print(type(int_value))     # Output: <class 'int'>\n"
      ],
      "metadata": {
        "colab": {
          "base_uri": "https://localhost:8080/"
        },
        "id": "iOvsYIwSgcB0",
        "outputId": "b441909e-f813-4d63-b352-5a51ae1d128c"
      },
      "execution_count": null,
      "outputs": [
        {
          "output_type": "stream",
          "name": "stdout",
          "text": [
            "<class 'str'>\n",
            "<class 'int'>\n"
          ]
        }
      ]
    },
    {
      "cell_type": "markdown",
      "source": [
        "10. What is the difference between implicit and explicit type casting?\n",
        "- Implicit: Python does it for you automatically.\n",
        "Example: Adding an integer and a float gives you a float.\n",
        "- Explicit: You tell Python to convert it.\n",
        "Example: Using int() to turn \"5\" into 5."
      ],
      "metadata": {
        "id": "sZ-TEU02gi1N"
      }
    },
    {
      "cell_type": "markdown",
      "source": [
        "11. What is the purpose of conditional statements in Python?\n",
        "- Conditional statements let your program make decisions. Like, \"If this happens, do that.\" It’s what makes programs smart instead of just running straight through.\n"
      ],
      "metadata": {
        "id": "bZAgNUGagyAw"
      }
    },
    {
      "cell_type": "markdown",
      "source": [
        "12. How does the elif statement work?\n",
        "- elif is short for \"else if.\" It’s like , if the first condition wasn’t true, try this one instead.\"\n",
        "\n",
        "\n"
      ],
      "metadata": {
        "id": "W1k8QFp6hIdl"
      }
    },
    {
      "cell_type": "code",
      "source": [
        "#Example:\n",
        "x = 10\n",
        "if x < 5:\n",
        "    print(\"Too small\")\n",
        "elif x == 10:\n",
        "    print(\"Just right\")  # This runs\n",
        "else:\n",
        "    print(\"Too big\")"
      ],
      "metadata": {
        "colab": {
          "base_uri": "https://localhost:8080/"
        },
        "id": "0Gyjw5WZhYIY",
        "outputId": "755b348a-61a1-42e2-9038-b93890f4042a"
      },
      "execution_count": null,
      "outputs": [
        {
          "output_type": "stream",
          "name": "stdout",
          "text": [
            "Just right\n"
          ]
        }
      ]
    },
    {
      "cell_type": "markdown",
      "source": [
        "13. What is the difference between for and while loops?\n",
        "- for loop: Used when you know how many times you want to repeat something.\n",
        "- while loop: Used when you keep repeating until a condition is met, and you don’t know how many times it’ll run."
      ],
      "metadata": {
        "id": "tA1TgUlbhxDG"
      }
    },
    {
      "cell_type": "markdown",
      "source": [
        "14. Describe a scenario where a while loop is more suitable than a for loop.\n",
        "- A while loop is better when you’re waiting for something to happen, like asking for a password until the user gets it right.\n",
        "\n"
      ],
      "metadata": {
        "id": "pVZhfcv4iCnO"
      }
    },
    {
      "cell_type": "code",
      "source": [
        "password = \"\"\n",
        "while password != \"PWSKILLS\":\n",
        "    password = input(\"Enter the password: \")\n",
        "print(\"Access granted!\")\n"
      ],
      "metadata": {
        "id": "ukyRJt1tidcg",
        "colab": {
          "base_uri": "https://localhost:8080/"
        },
        "outputId": "742c2ea5-6a37-4306-c403-76594a7b77ad"
      },
      "execution_count": 8,
      "outputs": [
        {
          "output_type": "stream",
          "name": "stdout",
          "text": [
            "Enter the password: ANKIT\n",
            "Enter the password: PWSKILLS\n",
            "Access granted!\n"
          ]
        }
      ]
    },
    {
      "cell_type": "markdown",
      "source": [
        "#Practical Questions"
      ],
      "metadata": {
        "id": "xLEQoe4SjWqC"
      }
    },
    {
      "cell_type": "code",
      "source": [
        "# Question 1: Write a Python program to print \"Hello, World!\"\n",
        "print(\"Hello, World!\")\n"
      ],
      "metadata": {
        "colab": {
          "base_uri": "https://localhost:8080/"
        },
        "id": "jVNbi2C8kEUA",
        "outputId": "cfb5d3de-c724-4508-f5f1-dff05b08250e"
      },
      "execution_count": 9,
      "outputs": [
        {
          "output_type": "stream",
          "name": "stdout",
          "text": [
            "Hello, World!\n"
          ]
        }
      ]
    },
    {
      "cell_type": "code",
      "source": [
        "# Question 2: Write a Python program that displays your name and age\n",
        "name = \"Ankit Gupta\"\n",
        "age = 25\n",
        "print(f\"My name is {name} and I am {age} years old.\")\n"
      ],
      "metadata": {
        "colab": {
          "base_uri": "https://localhost:8080/"
        },
        "id": "psEvBYMVkWnn",
        "outputId": "bb2097fb-438c-4b1a-d57f-05378cf4277d"
      },
      "execution_count": 11,
      "outputs": [
        {
          "output_type": "stream",
          "name": "stdout",
          "text": [
            "My name is Ankit Gupta and I am 25 years old.\n"
          ]
        }
      ]
    },
    {
      "cell_type": "code",
      "source": [
        "# Question 3: Write code to print all the pre-defined keywords in Python using the keyword library\n",
        "import keyword\n",
        "print(keyword.kwlist)\n"
      ],
      "metadata": {
        "colab": {
          "base_uri": "https://localhost:8080/"
        },
        "id": "pERE7hInktF1",
        "outputId": "26b9c708-c68a-4ee9-837d-976502bf2ea9"
      },
      "execution_count": 12,
      "outputs": [
        {
          "output_type": "stream",
          "name": "stdout",
          "text": [
            "['False', 'None', 'True', 'and', 'as', 'assert', 'async', 'await', 'break', 'class', 'continue', 'def', 'del', 'elif', 'else', 'except', 'finally', 'for', 'from', 'global', 'if', 'import', 'in', 'is', 'lambda', 'nonlocal', 'not', 'or', 'pass', 'raise', 'return', 'try', 'while', 'with', 'yield']\n"
          ]
        }
      ]
    },
    {
      "cell_type": "code",
      "source": [
        "# Question 4: Write a program that checks if a given word is a Python keyword\n",
        "import keyword\n",
        "\n",
        "word = input(\"Enter a word to check: \")\n",
        "\n",
        "if keyword.iskeyword(word):\n",
        "    print(f\"{word} is a Python keyword.\")\n",
        "else:\n",
        "    print(f\"{word} is not a Python keyword.\")\n"
      ],
      "metadata": {
        "colab": {
          "base_uri": "https://localhost:8080/"
        },
        "id": "RzMSCQdslSZY",
        "outputId": "47674d93-0633-4e47-a4b2-24dc163eba7b"
      },
      "execution_count": 19,
      "outputs": [
        {
          "output_type": "stream",
          "name": "stdout",
          "text": [
            "Enter a word to check: None\n",
            "None is a Python keyword.\n"
          ]
        }
      ]
    },
    {
      "cell_type": "code",
      "source": [
        "# Question 5: Create a list and tuple in Python, and demonstrate how attempting to change an element works differently for each?\n",
        "\n"
      ],
      "metadata": {
        "id": "RLG2vkhhlx1k"
      },
      "execution_count": 28,
      "outputs": []
    },
    {
      "cell_type": "code",
      "source": [
        "# List (Mutable)\n",
        "my_list = [1, 2, 3]\n",
        "my_list[0] = 10  # Modifying the list element\n",
        "print(\"List after modification:\", my_list)"
      ],
      "metadata": {
        "colab": {
          "base_uri": "https://localhost:8080/"
        },
        "id": "UDXhPVuWoKm7",
        "outputId": "e15278d3-4c58-4123-b205-43291073aa4c"
      },
      "execution_count": 29,
      "outputs": [
        {
          "output_type": "stream",
          "name": "stdout",
          "text": [
            "List after modification: [10, 2, 3]\n"
          ]
        }
      ]
    },
    {
      "cell_type": "code",
      "source": [
        "# Tuple (Immutable)\n",
        "my_tuple = (1, 2, 3)\n",
        "\n",
        "try:\n",
        "    my_tuple[0] = 10  # This line would raise an error if we dont use \"try\"\n",
        "except TypeError:\n",
        "    print(\"Can't modify a tuple.\")  # Handle the error and print a message\n"
      ],
      "metadata": {
        "colab": {
          "base_uri": "https://localhost:8080/"
        },
        "id": "6qodbxCnnTvb",
        "outputId": "b78a7e66-cf6e-4e77-8aac-2d91bc971a41"
      },
      "execution_count": 27,
      "outputs": [
        {
          "output_type": "stream",
          "name": "stdout",
          "text": [
            "Can't modify a tuple.\n"
          ]
        }
      ]
    },
    {
      "cell_type": "code",
      "source": [
        "# Question 6: Write a function to demonstrate the behavior of mutable and immutable arguments\n",
        "\n",
        "def test_mutability(mutable_arg, immutable_arg):\n",
        "    # Modify the mutable argument (list)\n",
        "    mutable_arg.append(4)\n",
        "\n",
        "    # Modify the immutable argument (int)\n",
        "    immutable_arg += 1\n",
        "\n",
        "    # Print the results\n",
        "    print(\"Mutable argument:\", mutable_arg)\n",
        "    print(\"Immutable argument:\", immutable_arg)\n",
        "\n",
        "# Example usage:\n",
        "my_list = [1, 2, 3]  # Mutable argument (list)\n",
        "my_number = 10       # Immutable argument (int)\n",
        "\n",
        "test_mutability(my_list, my_number)\n",
        "\n",
        "#This simple code directly shows how mutable (list) and immutable (integer) arguments behave when modified.\n"
      ],
      "metadata": {
        "colab": {
          "base_uri": "https://localhost:8080/"
        },
        "id": "85Ht01kYoN7b",
        "outputId": "5bb0c13c-b87f-46de-9f8d-3d2153a2ba80"
      },
      "execution_count": 32,
      "outputs": [
        {
          "output_type": "stream",
          "name": "stdout",
          "text": [
            "Mutable argument: [1, 2, 3, 4]\n",
            "Immutable argument: 11\n"
          ]
        }
      ]
    },
    {
      "cell_type": "markdown",
      "source": [
        "#Question 6 and 7 is the same in question paper that's why i am repeating it"
      ],
      "metadata": {
        "id": "BO7YxUZZqPSL"
      }
    },
    {
      "cell_type": "code",
      "source": [
        "# Question 7: Write a function to demonstrate the behavior of mutable and immutable arguments\n",
        "\n",
        "def test_mutability(mutable_arg, immutable_arg):\n",
        "    # Modify the mutable argument (list)\n",
        "    mutable_arg.append(4)\n",
        "\n",
        "    # Modify the immutable argument (int)\n",
        "    immutable_arg += 1\n",
        "\n",
        "    # Print the results\n",
        "    print(\"Mutable argument:\", mutable_arg)\n",
        "    print(\"Immutable argument:\", immutable_arg)\n",
        "\n",
        "# Example usage:\n",
        "my_list = [1, 2, 3]  # Mutable argument (list)\n",
        "my_number = 10       # Immutable argument (int)\n",
        "\n",
        "test_mutability(my_list, my_number)\n",
        "\n",
        "#This simple code directly shows how mutable (list) and immutable (integer) arguments behave when modified."
      ],
      "metadata": {
        "id": "21f_xJlLp9Yp"
      },
      "execution_count": null,
      "outputs": []
    },
    {
      "cell_type": "code",
      "source": [
        "# Question 8: Write a program to demonstrate the use of logical operators\n",
        "\n",
        "# Define variables for age and citizenship status\n",
        "age = int(input(\"Enter your age: \"))\n",
        "citizenship = input(\"Are you a citizen? (yes/no): \")\n",
        "\n",
        "# Example of 'and' operator\n",
        "if age >= 18 and citizenship.lower() == \"yes\":\n",
        "    print(\"You are eligible to vote!\")\n",
        "else:\n",
        "    print(\"You are not eligible to vote.\")\n",
        "\n",
        "\n",
        "# Example of 'or' operator\n",
        "has_id = input(\"Do you have an ID? (yes/no): \")\n",
        "if has_id.lower() == \"yes\" or citizenship.lower() == \"yes\":\n",
        "    print(\"You can proceed.\")\n",
        "else:\n",
        "    print(\"You cannot proceed.\")\n",
        "\n",
        "# Example of 'not' operator\n",
        "is_sunny = input(\"Is it sunny today? (yes/no): \")\n",
        "if not (is_sunny.lower() == \"yes\"):\n",
        "    print(\"It is not sunny today.\")\n",
        "else:\n",
        "    print(\"It is sunny today.\")\n",
        "\n",
        "\n",
        "\n"
      ],
      "metadata": {
        "colab": {
          "base_uri": "https://localhost:8080/"
        },
        "id": "cI3YQ-uNqok_",
        "outputId": "e1bc392e-1b71-4ddf-b73e-92bda6c9984f"
      },
      "execution_count": 37,
      "outputs": [
        {
          "output_type": "stream",
          "name": "stdout",
          "text": [
            "Enter your age: 17\n",
            "Are you a citizen? (yes/no): no\n",
            "You are not eligible to vote.\n",
            "Do you have an ID? (yes/no): no\n",
            "You cannot proceed.\n",
            "Is it sunny today? (yes/no): no\n",
            "It is not sunny today.\n"
          ]
        }
      ]
    },
    {
      "cell_type": "code",
      "source": [
        "# Question 9: Write a Python program to convert user input from string to integer, float, and boolean types\n",
        "user_input = input(\"Enter a value: \")\n",
        "\n",
        "# Convert string to integer, float, and boolean\n",
        "integer_value = int(user_input)\n",
        "float_value = float(user_input)\n",
        "boolean_value = bool(user_input)\n",
        "\n",
        "print(\"Integer:\", integer_value)\n",
        "print(\"Float:\", float_value)\n",
        "print(\"Boolean:\", boolean_value)\n"
      ],
      "metadata": {
        "colab": {
          "base_uri": "https://localhost:8080/"
        },
        "id": "vClY4-UVslmA",
        "outputId": "c771e004-090a-4cd8-e69c-2209e377d560"
      },
      "execution_count": 38,
      "outputs": [
        {
          "output_type": "stream",
          "name": "stdout",
          "text": [
            "Enter a value: 12\n",
            "Integer: 12\n",
            "Float: 12.0\n",
            "Boolean: True\n"
          ]
        }
      ]
    },
    {
      "cell_type": "code",
      "source": [
        "# Question 10: Write code to demonstrate type casting with list elements\n",
        "\n",
        "my_list = [\"1\", \"2\", \"3\", \"4\"]\n",
        "\n",
        "# Convert each string element to integer\n",
        "int_list = [int(item) for item in my_list]\n",
        "print(\"List of integers:\", int_list)\n",
        "\n"
      ],
      "metadata": {
        "colab": {
          "base_uri": "https://localhost:8080/"
        },
        "id": "Frf-d0-qs47y",
        "outputId": "4d880265-9e55-445f-f587-486bc98053fa"
      },
      "execution_count": 41,
      "outputs": [
        {
          "output_type": "stream",
          "name": "stdout",
          "text": [
            "List of integers: [1, 2, 3, 4]\n"
          ]
        }
      ]
    },
    {
      "cell_type": "code",
      "source": [
        "# Question 11: Write a program that checks if a number is positive, negative, or zero\n",
        "\n",
        "number = float(input(\"Enter a number: \"))\n",
        "\n",
        "if number > 0:\n",
        "    print(\"The number is positive.\")\n",
        "elif number < 0:\n",
        "    print(\"The number is negative.\")\n",
        "else:\n",
        "    print(\"The number is zero.\")\n"
      ],
      "metadata": {
        "colab": {
          "base_uri": "https://localhost:8080/"
        },
        "id": "1-BIKdVEud7L",
        "outputId": "7a060edc-38ef-49a2-d538-68d29413669b"
      },
      "execution_count": 43,
      "outputs": [
        {
          "output_type": "stream",
          "name": "stdout",
          "text": [
            "Enter a number: 0\n",
            "The number is zero.\n"
          ]
        }
      ]
    },
    {
      "cell_type": "code",
      "source": [
        "# Question 12: Write a for loop to print numbers from 1 to 100\n",
        "\n",
        "for i in range(1, 101):\n",
        "    print(i)\n"
      ],
      "metadata": {
        "colab": {
          "base_uri": "https://localhost:8080/"
        },
        "id": "Jf8k_qbWurWq",
        "outputId": "6897e2fd-5a25-4c60-999b-28c992f55de8"
      },
      "execution_count": 44,
      "outputs": [
        {
          "output_type": "stream",
          "name": "stdout",
          "text": [
            "1\n",
            "2\n",
            "3\n",
            "4\n",
            "5\n",
            "6\n",
            "7\n",
            "8\n",
            "9\n",
            "10\n",
            "11\n",
            "12\n",
            "13\n",
            "14\n",
            "15\n",
            "16\n",
            "17\n",
            "18\n",
            "19\n",
            "20\n",
            "21\n",
            "22\n",
            "23\n",
            "24\n",
            "25\n",
            "26\n",
            "27\n",
            "28\n",
            "29\n",
            "30\n",
            "31\n",
            "32\n",
            "33\n",
            "34\n",
            "35\n",
            "36\n",
            "37\n",
            "38\n",
            "39\n",
            "40\n",
            "41\n",
            "42\n",
            "43\n",
            "44\n",
            "45\n",
            "46\n",
            "47\n",
            "48\n",
            "49\n",
            "50\n",
            "51\n",
            "52\n",
            "53\n",
            "54\n",
            "55\n",
            "56\n",
            "57\n",
            "58\n",
            "59\n",
            "60\n",
            "61\n",
            "62\n",
            "63\n",
            "64\n",
            "65\n",
            "66\n",
            "67\n",
            "68\n",
            "69\n",
            "70\n",
            "71\n",
            "72\n",
            "73\n",
            "74\n",
            "75\n",
            "76\n",
            "77\n",
            "78\n",
            "79\n",
            "80\n",
            "81\n",
            "82\n",
            "83\n",
            "84\n",
            "85\n",
            "86\n",
            "87\n",
            "88\n",
            "89\n",
            "90\n",
            "91\n",
            "92\n",
            "93\n",
            "94\n",
            "95\n",
            "96\n",
            "97\n",
            "98\n",
            "99\n",
            "100\n"
          ]
        }
      ]
    },
    {
      "cell_type": "code",
      "source": [
        "# Question 13: Write a Python program to find the sum of all even numbers between 1 and 500\n",
        "\n",
        "sum_of_evens = sum([i for i in range(1, 501) if i % 2 == 0])\n",
        "print(\"Sum of even numbers between 1 and 500:\", sum_of_evens)\n"
      ],
      "metadata": {
        "colab": {
          "base_uri": "https://localhost:8080/"
        },
        "id": "FjTzYkrKu0CK",
        "outputId": "3351bb41-d312-4ff3-d6c9-d442abb65d16"
      },
      "execution_count": 45,
      "outputs": [
        {
          "output_type": "stream",
          "name": "stdout",
          "text": [
            "Sum of even numbers between 1 and 500: 62750\n"
          ]
        }
      ]
    },
    {
      "cell_type": "code",
      "source": [
        "# Question 14: Write a program to reverse a string using a while loop\n",
        "\n",
        "my_string = input(\"Enter a string: \")\n",
        "reversed_string = \"\"\n",
        "\n",
        "i = len(my_string) - 1\n",
        "while i >= 0:\n",
        "    reversed_string += my_string[i]\n",
        "    i -= 1\n",
        "\n",
        "print(\"Reversed string:\", reversed_string)\n"
      ],
      "metadata": {
        "colab": {
          "base_uri": "https://localhost:8080/"
        },
        "id": "uGRFGpUIu-8I",
        "outputId": "8759a9a9-b670-4b3f-afe5-c087ab4b735a"
      },
      "execution_count": 47,
      "outputs": [
        {
          "output_type": "stream",
          "name": "stdout",
          "text": [
            "Enter a string: pw skills \n",
            "Reversed string:  slliks wp\n"
          ]
        }
      ]
    },
    {
      "cell_type": "code",
      "source": [
        "# Question 15: Write a Python program to calculate the factorial of a number provided by the user using a while loop\n",
        "\n",
        "number = int(input(\"Enter a number: \"))\n",
        "factorial = 1\n",
        "while number > 0:\n",
        "    factorial *= number\n",
        "    number -= 1\n",
        "\n",
        "print(\"Factorial:\", factorial)\n"
      ],
      "metadata": {
        "colab": {
          "base_uri": "https://localhost:8080/"
        },
        "id": "4cq6XU1wvQZ2",
        "outputId": "edef801b-bdc0-4c9e-f1b4-6e6edf59f439"
      },
      "execution_count": 48,
      "outputs": [
        {
          "output_type": "stream",
          "name": "stdout",
          "text": [
            "Enter a number: 10\n",
            "Factorial: 3628800\n"
          ]
        }
      ]
    }
  ]
}