{
  "nbformat": 4,
  "nbformat_minor": 0,
  "metadata": {
    "colab": {
      "provenance": []
    },
    "kernelspec": {
      "name": "python3",
      "display_name": "Python 3"
    },
    "language_info": {
      "name": "python"
    }
  },
  "cells": [
    {
      "cell_type": "markdown",
      "source": [
        "#Assignment : Python - Data Structure\n",
        "\n",
        "#Theoretical Questions\n",
        "\n"
      ],
      "metadata": {
        "id": "HzUEf-rTlA0e"
      }
    },
    {
      "cell_type": "markdown",
      "source": [
        "1. What are data structures, and why are they important?\n",
        "- Data structures are ways to organize and store data so that we can access and work with it efficiently. They’re important because they make our programs faster and more reliable. For example, if you’re building an app, the right data structure helps manage things like users, messages, or settings."
      ],
      "metadata": {
        "id": "Wyk_rq_Il7pn"
      }
    },
    {
      "cell_type": "markdown",
      "source": [
        "2. Explain the difference between mutable and immutable data types with examples.\n",
        "- Mutable means you can change the value after creating it. Example: lists (my_list[0] = 10).\n",
        "Immutable means once created, it can’t be changed. Example: strings or tuples (my_tuple[0] = 10 throws an error)."
      ],
      "metadata": {
        "id": "laA96SoamLlr"
      }
    },
    {
      "cell_type": "markdown",
      "source": [
        "3. What are the main differences between lists and tuples in Python?\n",
        "- Lists are mutable (you can change them), while tuples are immutable (you can’t change them).\n",
        "Lists use more memory because they’re flexible, while tuples are faster and more memory-efficient.\n",
        "  - Syntax: Lists use square brackets [ ], tuples use parentheses ( )."
      ],
      "metadata": {
        "id": "rFmqVWL7mVzU"
      }
    },
    {
      "cell_type": "markdown",
      "source": [
        "4. Describe how dictionaries store data.\n",
        "- Dictionaries store data in key-value pairs. It’s like a real dictionary where a word (key) maps to its definition (value). Python uses something called a hash table to make accessing the data super fast."
      ],
      "metadata": {
        "id": "N-QcZLjRmmi3"
      }
    },
    {
      "cell_type": "markdown",
      "source": [
        "5. Why might you use a set instead of a list in Python?\n",
        "- Sets are great when you only care about unique values. Unlike lists, sets automatically remove duplicates and are faster for checking if something exists (in keyword)."
      ],
      "metadata": {
        "id": "5qJWIEqwmzPN"
      }
    },
    {
      "cell_type": "markdown",
      "source": [
        "6. What is a string in Python, and how is it different from a list?\n",
        "- A string is a sequence of characters (like text). It’s similar to a list because you can loop through it or access specific parts (my_string[0]). But strings are immutable, while lists are mutable."
      ],
      "metadata": {
        "id": "dxMeX0-sm-c9"
      }
    },
    {
      "cell_type": "markdown",
      "source": [
        "7. How do tuples ensure data integrity in Python?\n",
        "- Tuples are immutable, meaning you can’t accidentally change their values. This makes them great for storing data that should stay constant, like coordinates or database records."
      ],
      "metadata": {
        "id": "Kz5gvpD0nELk"
      }
    },
    {
      "cell_type": "markdown",
      "source": [
        "8. What is a hash table, and how does it relate to dictionaries in Python?\n",
        "- A hash table is a data structure that lets you store and retrieve data quickly using a unique key. Python’s dictionaries use hash tables under the hood to make looking up values fast, even with lots of data."
      ],
      "metadata": {
        "id": "AQN0sLJOnKTR"
      }
    },
    {
      "cell_type": "markdown",
      "source": [
        "9. Can lists contain different data types in Python?\n",
        "- Yes, lists can hold anything—strings, numbers, other lists, or even functions."
      ],
      "metadata": {
        "id": "9p75v7M8nPkb"
      }
    },
    {
      "cell_type": "code",
      "execution_count": 3,
      "metadata": {
        "id": "SvpxE47Djs5U"
      },
      "outputs": [],
      "source": [
        " #For example:\n",
        "\n",
        "\n",
        "my_list = [1, \"hello\", [2, 3], len]"
      ]
    },
    {
      "cell_type": "markdown",
      "source": [
        "10. Explain why strings are immutable in Python.\n",
        "- Strings are immutable to make them more memory-efficient and safer. If multiple parts of your program use the same string, they don’t need separate copies. This also prevents accidental changes."
      ],
      "metadata": {
        "id": "1-RNiW4hngs3"
      }
    },
    {
      "cell_type": "markdown",
      "source": [
        "11. What advantages do dictionaries offer over lists for certain tasks?\n",
        "- Dictionaries are faster for looking up data by a key compared to searching through a list. They also make your code more readable because you can use meaningful keys instead of relying on indexes."
      ],
      "metadata": {
        "id": "m9tj886En10G"
      }
    },
    {
      "cell_type": "markdown",
      "source": [
        "12. Describe a scenario where using a tuple would be preferable over a list.\n",
        "- If you’re working with data that shouldn’t change, like GPS coordinates ((40.7128, -74.0060) for NYC), use a tuple. It ensures no one accidentally modifies the data."
      ],
      "metadata": {
        "id": "b_CMczFFoOdS"
      }
    },
    {
      "cell_type": "markdown",
      "source": [
        "13. How do sets handle duplicate values in Python?\n",
        "- Sets automatically remove duplicates. If you try to add the same value twice, it’s ignored."
      ],
      "metadata": {
        "id": "-SAVrlcfoZFY"
      }
    },
    {
      "cell_type": "markdown",
      "source": [
        "14. How does the “in” keyword work differently for lists and dictionaries?\n",
        "- In lists, it checks if a value exists in the list.\n",
        "In dictionaries, it checks if a key exists (not the value).\n",
        "\n"
      ],
      "metadata": {
        "id": "rETQ0cJ7obuq"
      }
    },
    {
      "cell_type": "code",
      "source": [
        "#Example:\n",
        "my_list = [1, 2, 3]\n",
        "my_dict = {\"a\": 1, \"b\": 2}\n",
        "\n",
        "print(1 in my_list)  # True\n",
        "print(\"a\" in my_dict)  # True\n",
        "print(1 in my_dict)  # False"
      ],
      "metadata": {
        "colab": {
          "base_uri": "https://localhost:8080/"
        },
        "id": "9sQoa3Aror0W",
        "outputId": "99ce2add-4ce7-41ac-9815-699df0df9d2d"
      },
      "execution_count": 4,
      "outputs": [
        {
          "output_type": "stream",
          "name": "stdout",
          "text": [
            "True\n",
            "True\n",
            "False\n"
          ]
        }
      ]
    },
    {
      "cell_type": "markdown",
      "source": [
        "15. Can you modify the elements of a tuple? Explain why or why not.\n",
        "- No, you can’t modify a tuple because it’s immutable. Python designed tuples this way to ensure data integrity and make them faster than lists."
      ],
      "metadata": {
        "id": "-ArepsiIo1bD"
      }
    },
    {
      "cell_type": "markdown",
      "source": [
        "16. What is a nested dictionary, and give an example of its use case.\n",
        "- A nested dictionary is a dictionary inside another dictionary. It’s useful for storing hierarchical data like student records:\n",
        "\n"
      ],
      "metadata": {
        "id": "OzVC5JCWo8xM"
      }
    },
    {
      "cell_type": "code",
      "source": [
        "students = {\n",
        "    \"John\": {\"age\": 20, \"grades\": [90, 80]},\n",
        "    \"Jane\": {\"age\": 22, \"grades\": [85, 95]}\n",
        "}"
      ],
      "metadata": {
        "id": "BMZlbuQipB06"
      },
      "execution_count": 5,
      "outputs": []
    },
    {
      "cell_type": "markdown",
      "source": [
        "17. Describe the time complexity of accessing elements in a dictionary.\n",
        "- Accessing elements in a dictionary is O(1) on average, meaning it’s very fast. This is because Python uses hash tables, which don’t need to search through all the data."
      ],
      "metadata": {
        "id": "bPBiBB6BpLSl"
      }
    },
    {
      "cell_type": "markdown",
      "source": [
        "18. In what situations are lists preferred over dictionaries?\n",
        "- Use lists when: You only care about the order of items.\n",
        "You don’t need unique keys or fast lookups.\n",
        "  - For example, storing a simple list of numbers: [1, 2, 3, 4]."
      ],
      "metadata": {
        "id": "eD6hO65TpZQd"
      }
    },
    {
      "cell_type": "markdown",
      "source": [
        "19. Why are dictionaries considered unordered, and how does that affect data retrieval?\n",
        "- Dictionaries don’t store data in a specific order internally; they focus on fast access. Starting from Python 3.7, they preserve the insertion order, but that’s just a feature, not a guarantee."
      ],
      "metadata": {
        "id": "6M08HCQwprrt"
      }
    },
    {
      "cell_type": "markdown",
      "source": [
        "20. Explain the difference between a list and a dictionary in terms of data retrieval.\n",
        "- List: You retrieve data by index, so it’s slower for searching specific values (O(n)).\n",
        "- Dictionary: You retrieve data by key, which is much faster (O(1) on average)."
      ],
      "metadata": {
        "id": "U7uUadC8pytm"
      }
    },
    {
      "cell_type": "markdown",
      "source": [
        "#Practical Questions"
      ],
      "metadata": {
        "id": "nsLmUd5fp8R7"
      }
    },
    {
      "cell_type": "code",
      "source": [
        "#1. Write a code to create a string with your name and print it\n",
        "name = \"Ankit Gupta\"\n",
        "print(name)\n"
      ],
      "metadata": {
        "colab": {
          "base_uri": "https://localhost:8080/"
        },
        "id": "LBA8dS1EqDfw",
        "outputId": "5633df7d-a8e4-4c5e-b7a1-ba2c87068555"
      },
      "execution_count": 7,
      "outputs": [
        {
          "output_type": "stream",
          "name": "stdout",
          "text": [
            "Ankit Gupta\n"
          ]
        }
      ]
    },
    {
      "cell_type": "code",
      "source": [
        "#2. Write a code to find the length of the string \"Hello World\"\n",
        "string = \"Hello World\"\n",
        "length = len(string)\n",
        "print(length)\n"
      ],
      "metadata": {
        "colab": {
          "base_uri": "https://localhost:8080/"
        },
        "id": "PY9cpq-Iq7sy",
        "outputId": "4e3b8dbc-53ff-43b7-81ac-95c8bbd8aa3b"
      },
      "execution_count": 8,
      "outputs": [
        {
          "output_type": "stream",
          "name": "stdout",
          "text": [
            "11\n"
          ]
        }
      ]
    },
    {
      "cell_type": "code",
      "source": [
        "#3. Write a code to slice the first 3 characters from the string \"Python Programming\"\n",
        "\n",
        "string = \"Python Programming\"\n",
        "sliced = string[:3]\n",
        "print(sliced)"
      ],
      "metadata": {
        "colab": {
          "base_uri": "https://localhost:8080/"
        },
        "id": "Ly7UbexGrDdp",
        "outputId": "717e3c39-6f04-403e-9f16-68c7b08c21b4"
      },
      "execution_count": 9,
      "outputs": [
        {
          "output_type": "stream",
          "name": "stdout",
          "text": [
            "Pyt\n"
          ]
        }
      ]
    },
    {
      "cell_type": "code",
      "source": [
        "#4. Write a code to convert the string \"hello\" to uppercase\n",
        "\n",
        "string = \"hello\"\n",
        "uppercase = string.upper()\n",
        "print(uppercase)"
      ],
      "metadata": {
        "colab": {
          "base_uri": "https://localhost:8080/"
        },
        "id": "irXvrUiararV",
        "outputId": "ae541ba0-bf99-455c-bc1b-5c94371350c0"
      },
      "execution_count": 10,
      "outputs": [
        {
          "output_type": "stream",
          "name": "stdout",
          "text": [
            "HELLO\n"
          ]
        }
      ]
    },
    {
      "cell_type": "code",
      "source": [
        "#5. Write a code to replace the word \"apple\" with \"orange\" in the string \"I like apple\"\n",
        "\n",
        "string = \"I like apple\"\n",
        "new_string = string.replace(\"apple\", \"orange\")\n",
        "print(new_string)"
      ],
      "metadata": {
        "colab": {
          "base_uri": "https://localhost:8080/"
        },
        "id": "Ix7YL9Tlre1t",
        "outputId": "3dba4218-cd6a-4857-c68e-d1da7b14d89b"
      },
      "execution_count": 11,
      "outputs": [
        {
          "output_type": "stream",
          "name": "stdout",
          "text": [
            "I like orange\n"
          ]
        }
      ]
    },
    {
      "cell_type": "code",
      "source": [
        "#6. Write a code to create a list with numbers 1 to 5 and print it\n",
        "\n",
        "numbers = [1, 2, 3, 4, 5]\n",
        "print(numbers)"
      ],
      "metadata": {
        "colab": {
          "base_uri": "https://localhost:8080/"
        },
        "id": "WRIfGsWBrn9s",
        "outputId": "a04835a4-fe3a-4aef-e62a-67bdd2511d92"
      },
      "execution_count": 12,
      "outputs": [
        {
          "output_type": "stream",
          "name": "stdout",
          "text": [
            "[1, 2, 3, 4, 5]\n"
          ]
        }
      ]
    },
    {
      "cell_type": "code",
      "source": [
        "#7. Write a code to append the number 10 to the list [1, 2, 3, 4]\n",
        "\n",
        "numbers = [1, 2, 3, 4]\n",
        "numbers.append(10)\n",
        "print(numbers)"
      ],
      "metadata": {
        "colab": {
          "base_uri": "https://localhost:8080/"
        },
        "id": "XkDoVZ5sryV5",
        "outputId": "0040b6d2-55a1-43cf-8f70-221b7e675674"
      },
      "execution_count": 14,
      "outputs": [
        {
          "output_type": "stream",
          "name": "stdout",
          "text": [
            "[1, 2, 3, 4, 10]\n"
          ]
        }
      ]
    },
    {
      "cell_type": "code",
      "source": [
        "#8. Write a code to remove the number 3 from the list [1, 2, 3, 4, 5]\n",
        "\n",
        "numbers = [1, 2, 3, 4, 5]\n",
        "numbers.remove(3)\n",
        "print(numbers)"
      ],
      "metadata": {
        "colab": {
          "base_uri": "https://localhost:8080/"
        },
        "id": "Y8ZWJEvSr5LC",
        "outputId": "e903c4fc-3a26-4635-e831-07e96eaa771b"
      },
      "execution_count": 15,
      "outputs": [
        {
          "output_type": "stream",
          "name": "stdout",
          "text": [
            "[1, 2, 4, 5]\n"
          ]
        }
      ]
    },
    {
      "cell_type": "code",
      "source": [
        "#9. Write a code to access the second element in the list ['a', 'b', 'c', 'd']\n",
        "\n",
        "letters = ['a', 'b', 'c', 'd']\n",
        "second_element = letters[1]\n",
        "print(second_element)"
      ],
      "metadata": {
        "colab": {
          "base_uri": "https://localhost:8080/"
        },
        "id": "xNrEh5VVsDQY",
        "outputId": "6e7dc865-a184-4506-a47c-70530afba8c2"
      },
      "execution_count": 16,
      "outputs": [
        {
          "output_type": "stream",
          "name": "stdout",
          "text": [
            "b\n"
          ]
        }
      ]
    },
    {
      "cell_type": "code",
      "source": [
        "#10. Write a code to reverse the list [10, 20, 30, 40, 50]\n",
        "\n",
        "numbers = [10, 20, 30, 40, 50]\n",
        "numbers.reverse()\n",
        "print(numbers)"
      ],
      "metadata": {
        "colab": {
          "base_uri": "https://localhost:8080/"
        },
        "id": "Xm94c_mSsMkN",
        "outputId": "f0b7bd3c-df57-4496-a4bc-8e6391e84b2d"
      },
      "execution_count": 17,
      "outputs": [
        {
          "output_type": "stream",
          "name": "stdout",
          "text": [
            "[50, 40, 30, 20, 10]\n"
          ]
        }
      ]
    },
    {
      "cell_type": "code",
      "source": [
        "#11. Write a code to create a tuple with the elements 10, 20, 30 and print it\n",
        "\n",
        "my_tuple = (10, 20, 30)\n",
        "print(my_tuple)"
      ],
      "metadata": {
        "colab": {
          "base_uri": "https://localhost:8080/"
        },
        "id": "yZyb-cbvsTL9",
        "outputId": "0a18727d-a34b-4a4d-cb70-e9319f28f8c2"
      },
      "execution_count": 18,
      "outputs": [
        {
          "output_type": "stream",
          "name": "stdout",
          "text": [
            "(10, 20, 30)\n"
          ]
        }
      ]
    },
    {
      "cell_type": "code",
      "source": [
        "#12. Write a code to access the first element of the tuple ('apple', 'banana', 'cherry')\n",
        "\n",
        "fruits = ('apple', 'banana', 'cherry')\n",
        "first_element = fruits[0]\n",
        "print(first_element)"
      ],
      "metadata": {
        "colab": {
          "base_uri": "https://localhost:8080/"
        },
        "id": "jloBZ-qIscw8",
        "outputId": "f45c3abb-a2d2-401d-f7c4-c6f8e0ed4368"
      },
      "execution_count": 19,
      "outputs": [
        {
          "output_type": "stream",
          "name": "stdout",
          "text": [
            "apple\n"
          ]
        }
      ]
    },
    {
      "cell_type": "code",
      "source": [
        "#13. Write a code to count how many times the number 2 appears in the tuple (1, 2, 3, 2, 4, 2)\n",
        "\n",
        "my_tuple = (1, 2, 3, 2, 4, 2)\n",
        "count = my_tuple.count(2)\n",
        "print(count)"
      ],
      "metadata": {
        "colab": {
          "base_uri": "https://localhost:8080/"
        },
        "id": "bLdS0JHgsmhk",
        "outputId": "df9dfc2d-2bb2-4ddc-f753-09635b9dcee3"
      },
      "execution_count": 20,
      "outputs": [
        {
          "output_type": "stream",
          "name": "stdout",
          "text": [
            "3\n"
          ]
        }
      ]
    },
    {
      "cell_type": "code",
      "source": [
        "#14. Write a code to find the index of the element \"cat\" in the tuple ('dog', 'cat', 'rabbit')\n",
        "\n",
        "animals = ('dog', 'cat', 'rabbit')\n",
        "index = animals.index('cat')\n",
        "print(index)\n"
      ],
      "metadata": {
        "colab": {
          "base_uri": "https://localhost:8080/"
        },
        "id": "U10aOyQnsuDy",
        "outputId": "06c23baf-4002-4df5-9969-308ac154b1b9"
      },
      "execution_count": 21,
      "outputs": [
        {
          "output_type": "stream",
          "name": "stdout",
          "text": [
            "1\n"
          ]
        }
      ]
    },
    {
      "cell_type": "code",
      "source": [
        "#15. Write a code to check if the element \"banana\" is in the tuple ('apple', 'orange', 'banana')\n",
        "\n",
        "fruits = ('apple', 'orange', 'banana')\n",
        "is_present = \"banana\" in fruits\n",
        "print(is_present)"
      ],
      "metadata": {
        "colab": {
          "base_uri": "https://localhost:8080/"
        },
        "id": "Sdy22QAUs0yT",
        "outputId": "d58f5c61-3c45-48b7-a251-144511638ca8"
      },
      "execution_count": 23,
      "outputs": [
        {
          "output_type": "stream",
          "name": "stdout",
          "text": [
            "True\n"
          ]
        }
      ]
    },
    {
      "cell_type": "code",
      "source": [
        "#16. Write a code to create a set with the elements 1, 2, 3, 4, 5 and print it\n",
        "\n",
        "my_set = {1, 2, 3, 4, 5}\n",
        "print(my_set)"
      ],
      "metadata": {
        "colab": {
          "base_uri": "https://localhost:8080/"
        },
        "id": "RlzUeMvls8jb",
        "outputId": "68869334-accc-43fd-e331-e8ffe69e7abb"
      },
      "execution_count": 24,
      "outputs": [
        {
          "output_type": "stream",
          "name": "stdout",
          "text": [
            "{1, 2, 3, 4, 5}\n"
          ]
        }
      ]
    },
    {
      "cell_type": "code",
      "source": [
        "#17. Write a code to add the element 6 to the set {1, 2, 3, 4}\n",
        "\n",
        "my_set = {1, 2, 3, 4}\n",
        "my_set.add(6)\n",
        "print(my_set)"
      ],
      "metadata": {
        "colab": {
          "base_uri": "https://localhost:8080/"
        },
        "id": "e8SmaxGbtCp4",
        "outputId": "31c438f7-e257-4aa1-b32c-092081a2a445"
      },
      "execution_count": 25,
      "outputs": [
        {
          "output_type": "stream",
          "name": "stdout",
          "text": [
            "{1, 2, 3, 4, 6}\n"
          ]
        }
      ]
    },
    {
      "cell_type": "markdown",
      "source": [
        "#From here Questions 18 to 24 are exact same from Questions 11 to 17 in Question paper\n",
        "\n",
        "- That's why I am repeating it again"
      ],
      "metadata": {
        "id": "QRZi6XcVujna"
      }
    },
    {
      "cell_type": "code",
      "source": [
        "#18. Write a code to create a tuple with the elements 10, 20, 30 and print it\n",
        "\n",
        "my_tuple = (10, 20, 30)\n",
        "print(my_tuple)\n"
      ],
      "metadata": {
        "colab": {
          "base_uri": "https://localhost:8080/"
        },
        "id": "08Y3QVrVtK_X",
        "outputId": "f831582e-eed3-4d07-93b9-9084e4c5b99d"
      },
      "execution_count": 26,
      "outputs": [
        {
          "output_type": "stream",
          "name": "stdout",
          "text": [
            "(10, 20, 30)\n"
          ]
        }
      ]
    },
    {
      "cell_type": "code",
      "source": [
        "#19. Write a code to access the first element of the tuple ('apple', 'banana', 'cherry')\n",
        "\n",
        "fruits = ('apple', 'banana', 'cherry')\n",
        "first_element = fruits[0]\n",
        "print(first_element)"
      ],
      "metadata": {
        "colab": {
          "base_uri": "https://localhost:8080/"
        },
        "id": "L1DLrstetqHZ",
        "outputId": "c29c4cf8-8120-42e1-fdc5-dd04324cea26"
      },
      "execution_count": 27,
      "outputs": [
        {
          "output_type": "stream",
          "name": "stdout",
          "text": [
            "apple\n"
          ]
        }
      ]
    },
    {
      "cell_type": "code",
      "source": [
        "#20. Write a code to count how many times the number 2 appears in the tuple (1, 2, 3, 2, 4, 2)\n",
        "\n",
        "my_tuple = (1, 2, 3, 2, 4, 2)\n",
        "count = my_tuple.count(2)\n",
        "print(count)"
      ],
      "metadata": {
        "colab": {
          "base_uri": "https://localhost:8080/"
        },
        "id": "G-ydv77cvRgr",
        "outputId": "710db7c0-0261-456b-bb52-c7ad29a83c37"
      },
      "execution_count": 28,
      "outputs": [
        {
          "output_type": "stream",
          "name": "stdout",
          "text": [
            "3\n"
          ]
        }
      ]
    },
    {
      "cell_type": "code",
      "source": [
        "#21. Write a code to find the index of the element \"cat\" in the tuple ('dog', 'cat', 'rabbit')\n",
        "\n",
        "animals = ('dog', 'cat', 'rabbit')\n",
        "index = animals.index('cat')\n",
        "print(index)"
      ],
      "metadata": {
        "colab": {
          "base_uri": "https://localhost:8080/"
        },
        "id": "ZjOrwUbZvV1b",
        "outputId": "f2aacee1-bc0e-4a89-9207-8ed0dcdc0e52"
      },
      "execution_count": 29,
      "outputs": [
        {
          "output_type": "stream",
          "name": "stdout",
          "text": [
            "1\n"
          ]
        }
      ]
    },
    {
      "cell_type": "code",
      "source": [
        "#22. Write a code to check if the element \"banana\" is in the tuple ('apple', 'orange', 'banana')\n",
        "\n",
        "fruits = ('apple', 'orange', 'banana')\n",
        "is_present = \"banana\" in fruits\n",
        "print(is_present)"
      ],
      "metadata": {
        "colab": {
          "base_uri": "https://localhost:8080/"
        },
        "id": "0EniaI02vmrA",
        "outputId": "cddd35c2-e2e8-40d9-9d00-f607054ddce1"
      },
      "execution_count": 30,
      "outputs": [
        {
          "output_type": "stream",
          "name": "stdout",
          "text": [
            "True\n"
          ]
        }
      ]
    },
    {
      "cell_type": "code",
      "source": [
        "#23. Write a code to create a set with the elements 1, 2, 3, 4, 5 and print it\n",
        "\n",
        "my_set = {1, 2, 3, 4, 5}\n",
        "print(my_set)"
      ],
      "metadata": {
        "colab": {
          "base_uri": "https://localhost:8080/"
        },
        "id": "_LD8dygQvpDh",
        "outputId": "82ba0ac2-3b10-4a18-fa86-23f628ce0efa"
      },
      "execution_count": 32,
      "outputs": [
        {
          "output_type": "stream",
          "name": "stdout",
          "text": [
            "{1, 2, 3, 4, 5}\n"
          ]
        }
      ]
    },
    {
      "cell_type": "code",
      "source": [
        "#24. Write a code to add the element 6 to the set {1, 2, 3, 4}\n",
        "\n",
        "my_set = {1, 2, 3, 4}\n",
        "my_set.add(6)\n",
        "print(my_set)"
      ],
      "metadata": {
        "colab": {
          "base_uri": "https://localhost:8080/"
        },
        "id": "FBcg4HJ-vuIB",
        "outputId": "4ed14d3e-7749-4165-8786-6dc6af8bd9ee"
      },
      "execution_count": 33,
      "outputs": [
        {
          "output_type": "stream",
          "name": "stdout",
          "text": [
            "{1, 2, 3, 4, 6}\n"
          ]
        }
      ]
    }
  ]
}